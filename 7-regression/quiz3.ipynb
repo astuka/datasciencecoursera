{
 "cells": [
  {
   "cell_type": "code",
   "execution_count": 4,
   "metadata": {
    "vscode": {
     "languageId": "r"
    }
   },
   "outputs": [
    {
     "name": "stdout",
     "output_type": "stream",
     "text": [
      "cyl8 \n",
      "  NA \n"
     ]
    }
   ],
   "source": [
    "data(mtcars)\n",
    "\n",
    "# Convert cylinders to factor\n",
    "mtcars$cyl <- as.factor(mtcars$cyl)\n",
    "\n",
    "# Fit linear model with mpg as outcome, cylinders as factor, and weight as confounder\n",
    "model <- lm(mpg ~ cyl + wt, data = mtcars)\n",
    "\n",
    "# Get coefficient comparing 8 vs 4 cylinders, adjusted for weight\n",
    "coef_8vs4 <- coef(model)[\"cyl8\"] - coef(model)[\"cyl4\"]\n",
    "print(coef_8vs4)\n"
   ]
  },
  {
   "cell_type": "code",
   "execution_count": 5,
   "metadata": {
    "vscode": {
     "languageId": "r"
    }
   },
   "outputs": [
    {
     "name": "stdout",
     "output_type": "stream",
     "text": [
      "[1] \"P-value from likelihood ratio test: 0.123857026052181\"\n",
      "[1] \"Since p > 0.05, we suggest using the simpler model without interaction terms\"\n"
     ]
    }
   ],
   "source": [
    "# Fit model without interaction\n",
    "model1 <- lm(mpg ~ cyl + wt, data = mtcars)\n",
    "\n",
    "# Fit model with interaction\n",
    "model2 <- lm(mpg ~ cyl * wt, data = mtcars)\n",
    "\n",
    "# Perform likelihood ratio test\n",
    "lrtest <- anova(model1, model2)\n",
    "\n",
    "# Get p-value from test\n",
    "pvalue <- lrtest$`Pr(>F)`[2]\n",
    "print(paste(\"P-value from likelihood ratio test:\", pvalue))\n",
    "\n",
    "# Make suggestion based on p-value\n",
    "if(pvalue < 0.05) {\n",
    "  print(\"Since p < 0.05, we suggest using the model with interaction terms\")\n",
    "} else {\n",
    "  print(\"Since p > 0.05, we suggest using the simpler model without interaction terms\") \n",
    "}\n"
   ]
  },
  {
   "cell_type": "code",
   "execution_count": 7,
   "metadata": {
    "vscode": {
     "languageId": "r"
    }
   },
   "outputs": [
    {
     "name": "stdout",
     "output_type": "stream",
     "text": [
      "[1] \"Maximum hat value: 0.995\"\n",
      "[1] \"DFBETA for slope at point with max hat value: -133.823\"\n"
     ]
    }
   ],
   "source": [
    "x <- c(0.586, 0.166, -0.042, -0.614, 11.72)\n",
    "y <- c(0.549, -0.026, -0.127, -0.751, 1.344)\n",
    "\n",
    "# Create data frame\n",
    "df <- data.frame(x=x, y=y)\n",
    "\n",
    "# Fit linear model\n",
    "model <- lm(y ~ x, data=df)\n",
    "\n",
    "# Get hat values\n",
    "hat_values <- hatvalues(model)\n",
    "\n",
    "# Find maximum hat value\n",
    "max_hat <- max(hat_values)\n",
    "print(paste(\"Maximum hat value:\", round(max_hat, 3)))\n",
    "\n",
    "# Get dfbetas for slope\n",
    "dfbetas_slope <- dfbetas(model)[,\"x\"]\n",
    "\n",
    "# Find dfbeta for point with max hat value\n",
    "max_hat_index <- which.max(hat_values)\n",
    "max_dfbeta <- dfbetas_slope[max_hat_index]\n",
    "print(paste(\"DFBETA for slope at point with max hat value:\", round(max_dfbeta, 3)))\n",
    "\n"
   ]
  }
 ],
 "metadata": {
  "kernelspec": {
   "display_name": "R",
   "language": "R",
   "name": "ir"
  },
  "language_info": {
   "codemirror_mode": "r",
   "file_extension": ".r",
   "mimetype": "text/x-r-source",
   "name": "R",
   "pygments_lexer": "r",
   "version": "4.5.0"
  }
 },
 "nbformat": 4,
 "nbformat_minor": 2
}
