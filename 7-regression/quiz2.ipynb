{
 "cells": [
  {
   "cell_type": "code",
   "execution_count": 2,
   "metadata": {
    "vscode": {
     "languageId": "r"
    }
   },
   "outputs": [
    {
     "data": {
      "text/html": [
       "0.0529643873085638"
      ],
      "text/latex": [
       "0.0529643873085638"
      ],
      "text/markdown": [
       "0.0529643873085638"
      ],
      "text/plain": [
       "[1] 0.05296439"
      ]
     },
     "metadata": {},
     "output_type": "display_data"
    },
    {
     "data": {
      "text/html": [
       "0.222998065907878"
      ],
      "text/latex": [
       "0.222998065907878"
      ],
      "text/markdown": [
       "0.222998065907878"
      ],
      "text/plain": [
       "[1] 0.2229981"
      ]
     },
     "metadata": {},
     "output_type": "display_data"
    }
   ],
   "source": [
    "x <- c(0.61, 0.93, 0.83, 0.35, 0.54, 0.16, 0.91, 0.62, 0.62)\n",
    "y <- c(0.67, 0.84, 0.6, 0.18, 0.85, 0.47, 1.1, 0.65, 0.36)\n",
    "\n",
    "# Fit linear regression model\n",
    "model <- lm(y ~ x)\n",
    "\n",
    "# Get t-statistic for b1 coefficient\n",
    "t_stat <- summary(model)$coefficients[\"x\", \"t value\"]\n",
    "\n",
    "# Calculate p-value (two-sided)\n",
    "p_value <- 2 * pt(abs(t_stat), df = length(x) - 2, lower.tail = FALSE)\n",
    "p_value\n",
    "\n",
    "# Get residual standard error from model summary\n",
    "sigma <- summary(model)$sigma\n",
    "sigma\n",
    "\n"
   ]
  },
  {
   "cell_type": "code",
   "execution_count": 8,
   "metadata": {
    "vscode": {
     "languageId": "r"
    }
   },
   "outputs": [
    {
     "data": {
      "text/html": [
       "18.9909818247925"
      ],
      "text/latex": [
       "18.9909818247925"
      ],
      "text/markdown": [
       "18.9909818247925"
      ],
      "text/plain": [
       "[1] 18.99098"
      ]
     },
     "metadata": {},
     "output_type": "display_data"
    },
    {
     "data": {
      "text/html": [
       "27.5735493526235"
      ],
      "text/latex": [
       "27.5735493526235"
      ],
      "text/markdown": [
       "27.5735493526235"
      ],
      "text/plain": [
       "[1] 27.57355"
      ]
     },
     "metadata": {},
     "output_type": "display_data"
    },
    {
     "data": {
      "text/html": [
       "24.8238853569079"
      ],
      "text/latex": [
       "24.8238853569079"
      ],
      "text/markdown": [
       "24.8238853569079"
      ],
      "text/plain": [
       "[1] 24.82389"
      ]
     },
     "metadata": {},
     "output_type": "display_data"
    },
    {
     "data": {
      "text/html": [
       "4.04584416679206"
      ],
      "text/latex": [
       "4.04584416679206"
      ],
      "text/markdown": [
       "4.04584416679206"
      ],
      "text/plain": [
       "[1] 4.045844"
      ]
     },
     "metadata": {},
     "output_type": "display_data"
    }
   ],
   "source": [
    "data(mtcars)\n",
    "\n",
    "model <- lm(mpg ~ wt, data = mtcars)\n",
    "\n",
    "# Get mean weight\n",
    "mean_wt <- mean(mtcars$wt)\n",
    "\n",
    "# Get confidence interval for mean response at mean weight\n",
    "ci <- predict(model, newdata = data.frame(wt = mean_wt), interval = \"confidence\", level = 0.95)\n",
    "\n",
    "# Print lower endpoint of CI\n",
    "ci[1, \"lwr\"]\n",
    "\n",
    "# Convert 3000 pounds to weight units used in mtcars (1000 lbs)\n",
    "wt_3000 <- 3000/1000\n",
    "\n",
    "# Get prediction interval for 3000 lb car\n",
    "pred_int <- predict(model, newdata = data.frame(wt = wt_3000), interval = \"prediction\", level = 0.95)\n",
    "\n",
    "# Print upper endpoint of prediction interval\n",
    "pred_int[1, \"upr\"]\n",
    "\n",
    "\n",
    "# Convert 2000 pounds to weight units used in mtcars (1000 lbs)\n",
    "wt_2000 <- 2000/1000\n",
    "\n",
    "# Get confidence interval for mean response at 2000 lbs\n",
    "ci_2000 <- predict(model, newdata = data.frame(wt = wt_2000), interval = \"confidence\", level = 0.95)\n",
    "\n",
    "# Print lower endpoint of CI\n",
    "ci_2000[1, \"lwr\"]\n",
    "\n",
    "# Fit model with just intercept\n",
    "model_intercept <- lm(mpg ~ 1, data = mtcars)\n",
    "\n",
    "# Get sum of squared errors for intercept-only model\n",
    "sse_intercept <- sum(residuals(model_intercept)^2)\n",
    "\n",
    "# Get sum of squared errors for full model\n",
    "sse_full <- sum(residuals(model)^2)\n",
    "\n",
    "# Calculate difference in SSE\n",
    "sse_diff <- sse_intercept / sse_full\n",
    "sse_diff\n",
    "\n",
    "\n",
    "\n",
    "\n",
    "\n",
    "\n",
    "\n",
    "\n",
    "\n",
    "\n"
   ]
  },
  {
   "cell_type": "markdown",
   "metadata": {},
   "source": [
    "6. -12.97\n",
    "7. ask\n",
    "9. 0.25?\n",
    "10. if intercept included?"
   ]
  }
 ],
 "metadata": {
  "kernelspec": {
   "display_name": "R",
   "language": "R",
   "name": "ir"
  },
  "language_info": {
   "codemirror_mode": "r",
   "file_extension": ".r",
   "mimetype": "text/x-r-source",
   "name": "R",
   "pygments_lexer": "r",
   "version": "4.5.0"
  }
 },
 "nbformat": 4,
 "nbformat_minor": 2
}
