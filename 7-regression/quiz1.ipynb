{
 "cells": [
  {
   "cell_type": "code",
   "execution_count": 1,
   "metadata": {
    "vscode": {
     "languageId": "r"
    }
   },
   "outputs": [
    {
     "name": "stdout",
     "output_type": "stream",
     "text": [
      "[1] 0.1471429\n"
     ]
    }
   ],
   "source": [
    "x <- c(0.18, -1.54, 0.42, 0.95)\n",
    "w <- c(2, 1, 3, 1)\n",
    "\n",
    "# Calculate weighted mean which minimizes sum(w(x-u)^2)\n",
    "u <- sum(w * x) / sum(w)\n",
    "print(u)\n"
   ]
  },
  {
   "cell_type": "code",
   "execution_count": 2,
   "metadata": {
    "vscode": {
     "languageId": "r"
    }
   },
   "outputs": [
    {
     "name": "stdout",
     "output_type": "stream",
     "text": [
      "[1] 0.8262517\n"
     ]
    }
   ],
   "source": [
    "x <- c(0.8, 0.47, 0.51, 0.73, 0.36, 0.58, 0.57, 0.85, 0.44, 0.42)\n",
    "y <- c(1.39, 0.72, 1.55, 0.48, 1.19, -1.59, 1.23, -0.65, 1.49, 0.05)\n",
    "\n",
    "# Fit regression through origin (no intercept)\n",
    "slope <- sum(x * y) / sum(x^2)\n",
    "print(slope)\n"
   ]
  },
  {
   "cell_type": "code",
   "execution_count": 3,
   "metadata": {
    "vscode": {
     "languageId": "r"
    }
   },
   "outputs": [
    {
     "name": "stdout",
     "output_type": "stream",
     "text": [
      "       wt \n",
      "-5.344472 \n"
     ]
    }
   ],
   "source": [
    "data(mtcars)\n",
    "\n",
    "# Fit linear regression model\n",
    "model <- lm(mpg ~ wt, data = mtcars)\n",
    "\n",
    "# Get the slope (coefficient of wt)\n",
    "slope <- coef(model)[2]\n",
    "\n",
    "print(slope)\n"
   ]
  },
  {
   "cell_type": "code",
   "execution_count": 4,
   "metadata": {
    "vscode": {
     "languageId": "r"
    }
   },
   "outputs": [
    {
     "name": "stdout",
     "output_type": "stream",
     "text": [
      "[1] -0.9718658\n"
     ]
    }
   ],
   "source": [
    "x <- c(8.58, 10.46, 9.01, 9.64, 8.86)\n",
    "\n",
    "# Calculate mean and standard deviation\n",
    "x_mean <- mean(x)\n",
    "x_sd <- sd(x)\n",
    "\n",
    "# Normalize x to have mean 0 and variance 1\n",
    "x_normalized <- (x - x_mean) / x_sd\n",
    "\n",
    "# Get first normalized value\n",
    "print(x_normalized[1])\n"
   ]
  },
  {
   "cell_type": "code",
   "execution_count": 5,
   "metadata": {
    "vscode": {
     "languageId": "r"
    }
   },
   "outputs": [
    {
     "name": "stdout",
     "output_type": "stream",
     "text": [
      "(Intercept) \n",
      "   1.567461 \n"
     ]
    }
   ],
   "source": [
    "x <- c(0.8, 0.47, 0.51, 0.73, 0.36, 0.58, 0.57, 0.85, 0.44, 0.42)\n",
    "y <- c(1.39, 0.72, 1.55, 0.48, 1.19, -1.59, 1.23, -0.65, 1.49, 0.05)\n",
    "\n",
    "# Fit linear regression model\n",
    "model <- lm(y ~ x)\n",
    "\n",
    "# Get the intercept\n",
    "intercept <- coef(model)[1]\n",
    "print(intercept)\n"
   ]
  },
  {
   "cell_type": "code",
   "execution_count": 6,
   "metadata": {
    "vscode": {
     "languageId": "r"
    }
   },
   "outputs": [
    {
     "name": "stdout",
     "output_type": "stream",
     "text": [
      "[1] 0.573\n"
     ]
    }
   ],
   "source": [
    "x <- c(0.8, 0.47, 0.51, 0.73, 0.36, 0.58, 0.57, 0.85, 0.44, 0.42)\n",
    "\n",
    "# Calculate mean to minimize sum of squared distances\n",
    "x_min <- mean(x)\n",
    "\n",
    "# Print result\n",
    "print(x_min)\n"
   ]
  }
 ],
 "metadata": {
  "kernelspec": {
   "display_name": "R",
   "language": "R",
   "name": "ir"
  },
  "language_info": {
   "codemirror_mode": "r",
   "file_extension": ".r",
   "mimetype": "text/x-r-source",
   "name": "R",
   "pygments_lexer": "r",
   "version": "4.5.0"
  }
 },
 "nbformat": 4,
 "nbformat_minor": 2
}
