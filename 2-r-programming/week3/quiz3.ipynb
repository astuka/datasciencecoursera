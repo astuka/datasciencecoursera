{
 "cells": [
  {
   "cell_type": "code",
   "execution_count": 1,
   "metadata": {
    "vscode": {
     "languageId": "r"
    }
   },
   "outputs": [
    {
     "name": "stdout",
     "output_type": "stream",
     "text": [
      "iris                 package:datasets                  R Documentation\n",
      "\n",
      "_\bE_\bd_\bg_\ba_\br _\bA_\bn_\bd_\be_\br_\bs_\bo_\bn'_\bs _\bI_\br_\bi_\bs _\bD_\ba_\bt_\ba\n",
      "\n",
      "_\bD_\be_\bs_\bc_\br_\bi_\bp_\bt_\bi_\bo_\bn:\n",
      "\n",
      "     This famous (Fisher's or Anderson's) iris data set gives the\n",
      "     measurements in centimeters of the variables sepal length and\n",
      "     width and petal length and width, respectively, for 50 flowers\n",
      "     from each of 3 species of iris.  The species are _Iris setosa_,\n",
      "     _versicolor_, and _virginica_.\n",
      "\n",
      "_\bU_\bs_\ba_\bg_\be:\n",
      "\n",
      "     iris\n",
      "     iris3\n",
      "     \n",
      "_\bF_\bo_\br_\bm_\ba_\bt:\n",
      "\n",
      "     'iris' is a data frame with 150 cases (rows) and 5 variables\n",
      "     (columns) named 'Sepal.Length', 'Sepal.Width', 'Petal.Length',\n",
      "     'Petal.Width', and 'Species'.\n",
      "\n",
      "     'iris3' gives the same data arranged as a 3-dimensional array of\n",
      "     size 50 by 4 by 3, as once provided by S-PLUS.  The first\n",
      "     dimension gives the case number within the species subsample, the\n",
      "     second the measurements with names 'Sepal L.', 'Sepal W.', 'Petal\n",
      "     L.', and 'Petal W.', and the third the species.\n",
      "\n",
      "_\bS_\bo_\bu_\br_\bc_\be:\n",
      "\n",
      "     Fisher, R. A. (1936) The use of multiple measurements in taxonomic\n",
      "     problems.  _Annals of Eugenics_, *7*, Part II, 179-188.\n",
      "     doi:10.1111/j.1469-1809.1936.tb02137.x\n",
      "     <https://doi.org/10.1111/j.1469-1809.1936.tb02137.x>.\n",
      "\n",
      "     The data were collected by Anderson, Edgar (1935).  The irises of\n",
      "     the Gaspe Peninsula, _Bulletin of the American Iris Society_,\n",
      "     *59*, 2-5.\n",
      "\n",
      "_\bR_\be_\bf_\be_\br_\be_\bn_\bc_\be_\bs:\n",
      "\n",
      "     Becker, R. A., Chambers, J. M. and Wilks, A. R. (1988) _The New S\n",
      "     Language_.  Wadsworth & Brooks/Cole. (has 'iris3' as 'iris'.)\n",
      "\n",
      "_\bS_\be_\be _\bA_\bl_\bs_\bo:\n",
      "\n",
      "     'matplot' some examples of which use 'iris'.\n",
      "\n",
      "_\bE_\bx_\ba_\bm_\bp_\bl_\be_\bs:\n",
      "\n",
      "     summary(iris)\n",
      "     \n",
      "     ## Fisher's (1936) research question: whether (compound measurements of)\n",
      "     ## Iris versicolor \"differs twice as much from I. setosa as from I. virginica\"\n",
      "     pairs(iris[1:4], col = iris$Species)\n",
      "     legend(0.5, 1, levels(iris$Species), fill = 1:3, bty = \"n\",\n",
      "            horiz = TRUE, xjust = 0.5, yjust = 0, xpd = TRUE)\n",
      "     \n",
      "     ## equivalence of legacy array (iris3) and data.frame (iris) representation\n",
      "     dni3 <- dimnames(iris3)\n",
      "     ii <- data.frame(matrix(aperm(iris3, c(1,3,2)), ncol = 4,\n",
      "                             dimnames = list(NULL, sub(\" L.\",\".Length\",\n",
      "                                             sub(\" W.\",\".Width\", dni3[[2]])))),\n",
      "         Species = gl(3, 50, labels = sub(\"S\", \"s\", sub(\"V\", \"v\", dni3[[3]]))))\n",
      "     stopifnot(all.equal(ii, iris))\n",
      "     "
     ]
    }
   ],
   "source": [
    "library(datasets)\n",
    "data(iris)\n",
    "?iris"
   ]
  },
  {
   "cell_type": "code",
   "execution_count": 2,
   "metadata": {
    "vscode": {
     "languageId": "r"
    }
   },
   "outputs": [
    {
     "data": {
      "text/html": [
       "6.588"
      ],
      "text/latex": [
       "6.588"
      ],
      "text/markdown": [
       "6.588"
      ],
      "text/plain": [
       "[1] 6.588"
      ]
     },
     "metadata": {},
     "output_type": "display_data"
    }
   ],
   "source": [
    "mean(iris$Sepal.Length[iris$Species == \"virginica\"])\n"
   ]
  },
  {
   "cell_type": "code",
   "execution_count": 4,
   "metadata": {
    "vscode": {
     "languageId": "r"
    }
   },
   "outputs": [
    {
     "data": {
      "text/html": [
       "<style>\n",
       ".dl-inline {width: auto; margin:0; padding: 0}\n",
       ".dl-inline>dt, .dl-inline>dd {float: none; width: auto; display: inline-block}\n",
       ".dl-inline>dt::after {content: \":\\0020\"; padding-right: .5ex}\n",
       ".dl-inline>dt:not(:first-of-type) {padding-left: .5ex}\n",
       "</style><dl class=dl-inline><dt>Sepal.Length</dt><dd>5.84333333333333</dd><dt>Sepal.Width</dt><dd>3.05733333333333</dd><dt>Petal.Length</dt><dd>3.758</dd><dt>Petal.Width</dt><dd>1.19933333333333</dd></dl>\n"
      ],
      "text/latex": [
       "\\begin{description*}\n",
       "\\item[Sepal.Length] 5.84333333333333\n",
       "\\item[Sepal.Width] 3.05733333333333\n",
       "\\item[Petal.Length] 3.758\n",
       "\\item[Petal.Width] 1.19933333333333\n",
       "\\end{description*}\n"
      ],
      "text/markdown": [
       "Sepal.Length\n",
       ":   5.84333333333333Sepal.Width\n",
       ":   3.05733333333333Petal.Length\n",
       ":   3.758Petal.Width\n",
       ":   1.19933333333333\n",
       "\n"
      ],
      "text/plain": [
       "Sepal.Length  Sepal.Width Petal.Length  Petal.Width \n",
       "    5.843333     3.057333     3.758000     1.199333 "
      ]
     },
     "metadata": {},
     "output_type": "display_data"
    }
   ],
   "source": [
    "apply(iris[, 1:4], 2, mean)\n"
   ]
  },
  {
   "cell_type": "code",
   "execution_count": 9,
   "metadata": {
    "vscode": {
     "languageId": "r"
    }
   },
   "outputs": [
    {
     "data": {
      "text/html": [
       "<style>\n",
       ".dl-inline {width: auto; margin:0; padding: 0}\n",
       ".dl-inline>dt, .dl-inline>dd {float: none; width: auto; display: inline-block}\n",
       ".dl-inline>dt::after {content: \":\\0020\"; padding-right: .5ex}\n",
       ".dl-inline>dt:not(:first-of-type) {padding-left: .5ex}\n",
       "</style><dl class=dl-inline><dt>4</dt><dd>26.6636363636364</dd><dt>6</dt><dd>19.7428571428571</dd><dt>8</dt><dd>15.1</dd></dl>\n"
      ],
      "text/latex": [
       "\\begin{description*}\n",
       "\\item[4] 26.6636363636364\n",
       "\\item[6] 19.7428571428571\n",
       "\\item[8] 15.1\n",
       "\\end{description*}\n"
      ],
      "text/markdown": [
       "4\n",
       ":   26.66363636363646\n",
       ":   19.74285714285718\n",
       ":   15.1\n",
       "\n"
      ],
      "text/plain": [
       "       4        6        8 \n",
       "26.66364 19.74286 15.10000 "
      ]
     },
     "metadata": {},
     "output_type": "display_data"
    },
    {
     "data": {
      "text/html": [
       "<style>\n",
       ".dl-inline {width: auto; margin:0; padding: 0}\n",
       ".dl-inline>dt, .dl-inline>dd {float: none; width: auto; display: inline-block}\n",
       ".dl-inline>dt::after {content: \":\\0020\"; padding-right: .5ex}\n",
       ".dl-inline>dt:not(:first-of-type) {padding-left: .5ex}\n",
       "</style><dl class=dl-inline><dt>4</dt><dd>26.6636363636364</dd><dt>6</dt><dd>19.7428571428571</dd><dt>8</dt><dd>15.1</dd></dl>\n"
      ],
      "text/latex": [
       "\\begin{description*}\n",
       "\\item[4] 26.6636363636364\n",
       "\\item[6] 19.7428571428571\n",
       "\\item[8] 15.1\n",
       "\\end{description*}\n"
      ],
      "text/markdown": [
       "4\n",
       ":   26.66363636363646\n",
       ":   19.74285714285718\n",
       ":   15.1\n",
       "\n"
      ],
      "text/plain": [
       "       4        6        8 \n",
       "26.66364 19.74286 15.10000 "
      ]
     },
     "metadata": {},
     "output_type": "display_data"
    },
    {
     "data": {
      "text/html": [
       "<style>\n",
       ".dl-inline {width: auto; margin:0; padding: 0}\n",
       ".dl-inline>dt, .dl-inline>dd {float: none; width: auto; display: inline-block}\n",
       ".dl-inline>dt::after {content: \":\\0020\"; padding-right: .5ex}\n",
       ".dl-inline>dt:not(:first-of-type) {padding-left: .5ex}\n",
       "</style><dl class=dl-inline><dt>4</dt><dd>26.6636363636364</dd><dt>6</dt><dd>19.7428571428571</dd><dt>8</dt><dd>15.1</dd></dl>\n"
      ],
      "text/latex": [
       "\\begin{description*}\n",
       "\\item[4] 26.6636363636364\n",
       "\\item[6] 19.7428571428571\n",
       "\\item[8] 15.1\n",
       "\\end{description*}\n"
      ],
      "text/markdown": [
       "4\n",
       ":   26.66363636363646\n",
       ":   19.74285714285718\n",
       ":   15.1\n",
       "\n"
      ],
      "text/plain": [
       "       4        6        8 \n",
       "26.66364 19.74286 15.10000 "
      ]
     },
     "metadata": {},
     "output_type": "display_data"
    }
   ],
   "source": [
    "library(datasets)\n",
    "data(mtcars)\n",
    "\n",
    "sapply(split(mtcars$mpg, mtcars$cyl), mean)\n",
    "#tapply(mtcars$mpg, mtcars$cyl, mean)\n",
    "with(mtcars, tapply(mpg, cyl, mean))\n",
    "\n"
   ]
  },
  {
   "cell_type": "code",
   "execution_count": 11,
   "metadata": {
    "vscode": {
     "languageId": "r"
    }
   },
   "outputs": [
    {
     "data": {
      "text/html": [
       "<strong>4:</strong> 126.577922077922"
      ],
      "text/latex": [
       "\\textbf{4:} 126.577922077922"
      ],
      "text/markdown": [
       "**4:** 126.577922077922"
      ],
      "text/plain": [
       "       4 \n",
       "126.5779 "
      ]
     },
     "metadata": {},
     "output_type": "display_data"
    }
   ],
   "source": [
    "hp_by_cyl <- tapply(mtcars$hp, mtcars$cyl, mean)\n",
    "abs(hp_by_cyl[\"4\"] - hp_by_cyl[\"8\"])\n"
   ]
  },
  {
   "cell_type": "code",
   "execution_count": 13,
   "metadata": {
    "vscode": {
     "languageId": "r"
    }
   },
   "outputs": [
    {
     "name": "stdout",
     "output_type": "stream",
     "text": [
      "debugging in: ls()\n",
      "debug: {\n",
      "    if (!missing(name)) {\n",
      "        pos <- tryCatch(name, error = function(e) e)\n",
      "        if (inherits(pos, \"error\")) {\n",
      "            name <- substitute(name)\n",
      "            if (!is.character(name)) \n",
      "                name <- deparse(name)\n",
      "            warning(gettextf(\"%s converted to character string\", \n",
      "                sQuote(name)), domain = NA)\n",
      "            pos <- name\n",
      "        }\n",
      "    }\n",
      "    all.names <- .Internal(ls(envir, all.names, sorted))\n",
      "    if (!missing(pattern)) {\n",
      "        if ((ll <- length(grep(\"[\", pattern, fixed = TRUE))) && \n",
      "            ll != length(grep(\"]\", pattern, fixed = TRUE))) {\n",
      "            if (pattern == \"[\") {\n",
      "                pattern <- \"\\\\[\"\n",
      "                warning(\"replaced regular expression pattern '[' by  '\\\\\\\\['\")\n",
      "            }\n",
      "            else if (length(grep(\"[^\\\\\\\\]\\\\[<-\", pattern))) {\n",
      "                pattern <- sub(\"\\\\[<-\", \"\\\\\\\\\\\\[<-\", pattern)\n",
      "                warning(\"replaced '[<-' by '\\\\\\\\[<-' in regular expression pattern\")\n",
      "            }\n",
      "        }\n",
      "        grep(pattern, all.names, value = TRUE)\n",
      "    }\n",
      "    else all.names\n",
      "}\n",
      "debug: if (!missing(name)) {\n",
      "    pos <- tryCatch(name, error = function(e) e)\n",
      "    if (inherits(pos, \"error\")) {\n",
      "        name <- substitute(name)\n",
      "        if (!is.character(name)) \n",
      "            name <- deparse(name)\n",
      "        warning(gettextf(\"%s converted to character string\", \n",
      "            sQuote(name)), domain = NA)\n",
      "        pos <- name\n",
      "    }\n",
      "}\n",
      "debug: all.names <- .Internal(ls(envir, all.names, sorted))\n",
      "debug: if (!missing(pattern)) {\n",
      "    if ((ll <- length(grep(\"[\", pattern, fixed = TRUE))) && ll != \n",
      "        length(grep(\"]\", pattern, fixed = TRUE))) {\n",
      "        if (pattern == \"[\") {\n",
      "            pattern <- \"\\\\[\"\n",
      "            warning(\"replaced regular expression pattern '[' by  '\\\\\\\\['\")\n",
      "        }\n",
      "        else if (length(grep(\"[^\\\\\\\\]\\\\[<-\", pattern))) {\n",
      "            pattern <- sub(\"\\\\[<-\", \"\\\\\\\\\\\\[<-\", pattern)\n",
      "            warning(\"replaced '[<-' by '\\\\\\\\[<-' in regular expression pattern\")\n",
      "        }\n",
      "    }\n",
      "    grep(pattern, all.names, value = TRUE)\n",
      "} else all.names\n",
      "debug: all.names\n",
      "exiting from: ls()\n"
     ]
    },
    {
     "data": {
      "text/html": [
       "<style>\n",
       ".list-inline {list-style: none; margin:0; padding: 0}\n",
       ".list-inline>li {display: inline-block}\n",
       ".list-inline>li:not(:last-child)::after {content: \"\\00b7\"; padding: 0 .5ex}\n",
       "</style>\n",
       "<ol class=list-inline><li>'hp_by_cyl'</li><li>'iris'</li><li>'mtcars'</li></ol>\n"
      ],
      "text/latex": [
       "\\begin{enumerate*}\n",
       "\\item 'hp\\_by\\_cyl'\n",
       "\\item 'iris'\n",
       "\\item 'mtcars'\n",
       "\\end{enumerate*}\n"
      ],
      "text/markdown": [
       "1. 'hp_by_cyl'\n",
       "2. 'iris'\n",
       "3. 'mtcars'\n",
       "\n",
       "\n"
      ],
      "text/plain": [
       "[1] \"hp_by_cyl\" \"iris\"      \"mtcars\"   "
      ]
     },
     "metadata": {},
     "output_type": "display_data"
    }
   ],
   "source": [
    "debug(ls)\n",
    "ls()"
   ]
  }
 ],
 "metadata": {
  "kernelspec": {
   "display_name": "R",
   "language": "R",
   "name": "ir"
  },
  "language_info": {
   "codemirror_mode": "r",
   "file_extension": ".r",
   "mimetype": "text/x-r-source",
   "name": "R",
   "pygments_lexer": "r",
   "version": "4.5.0"
  }
 },
 "nbformat": 4,
 "nbformat_minor": 2
}
