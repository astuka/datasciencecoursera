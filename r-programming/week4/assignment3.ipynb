{
 "cells": [
  {
   "cell_type": "code",
   "execution_count": 19,
   "metadata": {
    "vscode": {
     "languageId": "r"
    }
   },
   "outputs": [
    {
     "data": {
      "text/html": [
       "<table class=\"dataframe\">\n",
       "<caption>A data.frame: 6 × 46</caption>\n",
       "<thead>\n",
       "\t<tr><th></th><th scope=col>Provider.Number</th><th scope=col>Hospital.Name</th><th scope=col>Address.1</th><th scope=col>Address.2</th><th scope=col>Address.3</th><th scope=col>City</th><th scope=col>State</th><th scope=col>ZIP.Code</th><th scope=col>County.Name</th><th scope=col>Phone.Number</th><th scope=col>⋯</th><th scope=col>Lower.Readmission.Estimate...Hospital.30.Day.Readmission.Rates.from.Heart.Failure</th><th scope=col>Upper.Readmission.Estimate...Hospital.30.Day.Readmission.Rates.from.Heart.Failure</th><th scope=col>Number.of.Patients...Hospital.30.Day.Readmission.Rates.from.Heart.Failure</th><th scope=col>Footnote...Hospital.30.Day.Readmission.Rates.from.Heart.Failure</th><th scope=col>Hospital.30.Day.Readmission.Rates.from.Pneumonia</th><th scope=col>Comparison.to.U.S..Rate...Hospital.30.Day.Readmission.Rates.from.Pneumonia</th><th scope=col>Lower.Readmission.Estimate...Hospital.30.Day.Readmission.Rates.from.Pneumonia</th><th scope=col>Upper.Readmission.Estimate...Hospital.30.Day.Readmission.Rates.from.Pneumonia</th><th scope=col>Number.of.Patients...Hospital.30.Day.Readmission.Rates.from.Pneumonia</th><th scope=col>Footnote...Hospital.30.Day.Readmission.Rates.from.Pneumonia</th></tr>\n",
       "\t<tr><th></th><th scope=col>&lt;chr&gt;</th><th scope=col>&lt;chr&gt;</th><th scope=col>&lt;chr&gt;</th><th scope=col>&lt;chr&gt;</th><th scope=col>&lt;chr&gt;</th><th scope=col>&lt;chr&gt;</th><th scope=col>&lt;chr&gt;</th><th scope=col>&lt;chr&gt;</th><th scope=col>&lt;chr&gt;</th><th scope=col>&lt;chr&gt;</th><th scope=col>⋯</th><th scope=col>&lt;chr&gt;</th><th scope=col>&lt;chr&gt;</th><th scope=col>&lt;chr&gt;</th><th scope=col>&lt;chr&gt;</th><th scope=col>&lt;chr&gt;</th><th scope=col>&lt;chr&gt;</th><th scope=col>&lt;chr&gt;</th><th scope=col>&lt;chr&gt;</th><th scope=col>&lt;chr&gt;</th><th scope=col>&lt;chr&gt;</th></tr>\n",
       "</thead>\n",
       "<tbody>\n",
       "\t<tr><th scope=row>1</th><td>010001</td><td>SOUTHEAST ALABAMA MEDICAL CENTER</td><td>1108 ROSS CLARK CIRCLE    </td><td></td><td></td><td>DOTHAN      </td><td>AL</td><td>36301</td><td>HOUSTON   </td><td>3347938701</td><td>⋯</td><td>21.3</td><td>26.5</td><td>891</td><td></td><td>17.1</td><td>No Different than U.S. National Rate</td><td>14.4</td><td>20.4</td><td>400</td><td></td></tr>\n",
       "\t<tr><th scope=row>2</th><td>010005</td><td>MARSHALL MEDICAL CENTER SOUTH   </td><td>2505 U S HIGHWAY 431 NORTH</td><td></td><td></td><td>BOAZ        </td><td>AL</td><td>35957</td><td>MARSHALL  </td><td>2565938310</td><td>⋯</td><td>19.2</td><td>26.1</td><td>264</td><td></td><td>17.6</td><td>No Different than U.S. National Rate</td><td>15.0</td><td>20.6</td><td>374</td><td></td></tr>\n",
       "\t<tr><th scope=row>3</th><td>010006</td><td>ELIZA COFFEE MEMORIAL HOSPITAL  </td><td>205 MARENGO STREET        </td><td></td><td></td><td>FLORENCE    </td><td>AL</td><td>35631</td><td>LAUDERDALE</td><td>2567688400</td><td>⋯</td><td>17.2</td><td>22.9</td><td>614</td><td></td><td>16.9</td><td>No Different than U.S. National Rate</td><td>14.7</td><td>19.5</td><td>842</td><td></td></tr>\n",
       "\t<tr><th scope=row>4</th><td>010007</td><td>MIZELL MEMORIAL HOSPITAL        </td><td>702 N MAIN ST             </td><td></td><td></td><td>OPP         </td><td>AL</td><td>36467</td><td>COVINGTON </td><td>3344933541</td><td>⋯</td><td>22.4</td><td>31.9</td><td>135</td><td></td><td>19.4</td><td>No Different than U.S. National Rate</td><td>15.9</td><td>23.2</td><td>254</td><td></td></tr>\n",
       "\t<tr><th scope=row>5</th><td>010008</td><td>CRENSHAW COMMUNITY HOSPITAL     </td><td>101 HOSPITAL CIRCLE       </td><td></td><td></td><td>LUVERNE     </td><td>AL</td><td>36049</td><td>CRENSHAW  </td><td>3343353374</td><td>⋯</td><td>19.9</td><td>30.2</td><td>59 </td><td></td><td>18.0</td><td>No Different than U.S. National Rate</td><td>14.0</td><td>22.8</td><td>56 </td><td></td></tr>\n",
       "\t<tr><th scope=row>6</th><td>010010</td><td>MARSHALL MEDICAL CENTER NORTH   </td><td>8000 ALABAMA HIGHWAY 69   </td><td></td><td></td><td>GUNTERSVILLE</td><td>AL</td><td>35976</td><td>MARSHALL  </td><td>2565718000</td><td>⋯</td><td>20.1</td><td>28.2</td><td>173</td><td></td><td>18.7</td><td>No Different than U.S. National Rate</td><td>15.7</td><td>22.2</td><td>326</td><td></td></tr>\n",
       "</tbody>\n",
       "</table>\n"
      ],
      "text/latex": [
       "A data.frame: 6 × 46\n",
       "\\begin{tabular}{r|lllllllllllllllllllll}\n",
       "  & Provider.Number & Hospital.Name & Address.1 & Address.2 & Address.3 & City & State & ZIP.Code & County.Name & Phone.Number & ⋯ & Lower.Readmission.Estimate...Hospital.30.Day.Readmission.Rates.from.Heart.Failure & Upper.Readmission.Estimate...Hospital.30.Day.Readmission.Rates.from.Heart.Failure & Number.of.Patients...Hospital.30.Day.Readmission.Rates.from.Heart.Failure & Footnote...Hospital.30.Day.Readmission.Rates.from.Heart.Failure & Hospital.30.Day.Readmission.Rates.from.Pneumonia & Comparison.to.U.S..Rate...Hospital.30.Day.Readmission.Rates.from.Pneumonia & Lower.Readmission.Estimate...Hospital.30.Day.Readmission.Rates.from.Pneumonia & Upper.Readmission.Estimate...Hospital.30.Day.Readmission.Rates.from.Pneumonia & Number.of.Patients...Hospital.30.Day.Readmission.Rates.from.Pneumonia & Footnote...Hospital.30.Day.Readmission.Rates.from.Pneumonia\\\\\n",
       "  & <chr> & <chr> & <chr> & <chr> & <chr> & <chr> & <chr> & <chr> & <chr> & <chr> & ⋯ & <chr> & <chr> & <chr> & <chr> & <chr> & <chr> & <chr> & <chr> & <chr> & <chr>\\\\\n",
       "\\hline\n",
       "\t1 & 010001 & SOUTHEAST ALABAMA MEDICAL CENTER & 1108 ROSS CLARK CIRCLE     &  &  & DOTHAN       & AL & 36301 & HOUSTON    & 3347938701 & ⋯ & 21.3 & 26.5 & 891 &  & 17.1 & No Different than U.S. National Rate & 14.4 & 20.4 & 400 & \\\\\n",
       "\t2 & 010005 & MARSHALL MEDICAL CENTER SOUTH    & 2505 U S HIGHWAY 431 NORTH &  &  & BOAZ         & AL & 35957 & MARSHALL   & 2565938310 & ⋯ & 19.2 & 26.1 & 264 &  & 17.6 & No Different than U.S. National Rate & 15.0 & 20.6 & 374 & \\\\\n",
       "\t3 & 010006 & ELIZA COFFEE MEMORIAL HOSPITAL   & 205 MARENGO STREET         &  &  & FLORENCE     & AL & 35631 & LAUDERDALE & 2567688400 & ⋯ & 17.2 & 22.9 & 614 &  & 16.9 & No Different than U.S. National Rate & 14.7 & 19.5 & 842 & \\\\\n",
       "\t4 & 010007 & MIZELL MEMORIAL HOSPITAL         & 702 N MAIN ST              &  &  & OPP          & AL & 36467 & COVINGTON  & 3344933541 & ⋯ & 22.4 & 31.9 & 135 &  & 19.4 & No Different than U.S. National Rate & 15.9 & 23.2 & 254 & \\\\\n",
       "\t5 & 010008 & CRENSHAW COMMUNITY HOSPITAL      & 101 HOSPITAL CIRCLE        &  &  & LUVERNE      & AL & 36049 & CRENSHAW   & 3343353374 & ⋯ & 19.9 & 30.2 & 59  &  & 18.0 & No Different than U.S. National Rate & 14.0 & 22.8 & 56  & \\\\\n",
       "\t6 & 010010 & MARSHALL MEDICAL CENTER NORTH    & 8000 ALABAMA HIGHWAY 69    &  &  & GUNTERSVILLE & AL & 35976 & MARSHALL   & 2565718000 & ⋯ & 20.1 & 28.2 & 173 &  & 18.7 & No Different than U.S. National Rate & 15.7 & 22.2 & 326 & \\\\\n",
       "\\end{tabular}\n"
      ],
      "text/markdown": [
       "\n",
       "A data.frame: 6 × 46\n",
       "\n",
       "| <!--/--> | Provider.Number &lt;chr&gt; | Hospital.Name &lt;chr&gt; | Address.1 &lt;chr&gt; | Address.2 &lt;chr&gt; | Address.3 &lt;chr&gt; | City &lt;chr&gt; | State &lt;chr&gt; | ZIP.Code &lt;chr&gt; | County.Name &lt;chr&gt; | Phone.Number &lt;chr&gt; | ⋯ ⋯ | Lower.Readmission.Estimate...Hospital.30.Day.Readmission.Rates.from.Heart.Failure &lt;chr&gt; | Upper.Readmission.Estimate...Hospital.30.Day.Readmission.Rates.from.Heart.Failure &lt;chr&gt; | Number.of.Patients...Hospital.30.Day.Readmission.Rates.from.Heart.Failure &lt;chr&gt; | Footnote...Hospital.30.Day.Readmission.Rates.from.Heart.Failure &lt;chr&gt; | Hospital.30.Day.Readmission.Rates.from.Pneumonia &lt;chr&gt; | Comparison.to.U.S..Rate...Hospital.30.Day.Readmission.Rates.from.Pneumonia &lt;chr&gt; | Lower.Readmission.Estimate...Hospital.30.Day.Readmission.Rates.from.Pneumonia &lt;chr&gt; | Upper.Readmission.Estimate...Hospital.30.Day.Readmission.Rates.from.Pneumonia &lt;chr&gt; | Number.of.Patients...Hospital.30.Day.Readmission.Rates.from.Pneumonia &lt;chr&gt; | Footnote...Hospital.30.Day.Readmission.Rates.from.Pneumonia &lt;chr&gt; |\n",
       "|---|---|---|---|---|---|---|---|---|---|---|---|---|---|---|---|---|---|---|---|---|---|\n",
       "| 1 | 010001 | SOUTHEAST ALABAMA MEDICAL CENTER | 1108 ROSS CLARK CIRCLE     | <!----> | <!----> | DOTHAN       | AL | 36301 | HOUSTON    | 3347938701 | ⋯ | 21.3 | 26.5 | 891 | <!----> | 17.1 | No Different than U.S. National Rate | 14.4 | 20.4 | 400 | <!----> |\n",
       "| 2 | 010005 | MARSHALL MEDICAL CENTER SOUTH    | 2505 U S HIGHWAY 431 NORTH | <!----> | <!----> | BOAZ         | AL | 35957 | MARSHALL   | 2565938310 | ⋯ | 19.2 | 26.1 | 264 | <!----> | 17.6 | No Different than U.S. National Rate | 15.0 | 20.6 | 374 | <!----> |\n",
       "| 3 | 010006 | ELIZA COFFEE MEMORIAL HOSPITAL   | 205 MARENGO STREET         | <!----> | <!----> | FLORENCE     | AL | 35631 | LAUDERDALE | 2567688400 | ⋯ | 17.2 | 22.9 | 614 | <!----> | 16.9 | No Different than U.S. National Rate | 14.7 | 19.5 | 842 | <!----> |\n",
       "| 4 | 010007 | MIZELL MEMORIAL HOSPITAL         | 702 N MAIN ST              | <!----> | <!----> | OPP          | AL | 36467 | COVINGTON  | 3344933541 | ⋯ | 22.4 | 31.9 | 135 | <!----> | 19.4 | No Different than U.S. National Rate | 15.9 | 23.2 | 254 | <!----> |\n",
       "| 5 | 010008 | CRENSHAW COMMUNITY HOSPITAL      | 101 HOSPITAL CIRCLE        | <!----> | <!----> | LUVERNE      | AL | 36049 | CRENSHAW   | 3343353374 | ⋯ | 19.9 | 30.2 | 59  | <!----> | 18.0 | No Different than U.S. National Rate | 14.0 | 22.8 | 56  | <!----> |\n",
       "| 6 | 010010 | MARSHALL MEDICAL CENTER NORTH    | 8000 ALABAMA HIGHWAY 69    | <!----> | <!----> | GUNTERSVILLE | AL | 35976 | MARSHALL   | 2565718000 | ⋯ | 20.1 | 28.2 | 173 | <!----> | 18.7 | No Different than U.S. National Rate | 15.7 | 22.2 | 326 | <!----> |\n",
       "\n"
      ],
      "text/plain": [
       "  Provider.Number Hospital.Name                    Address.1                 \n",
       "1 010001          SOUTHEAST ALABAMA MEDICAL CENTER 1108 ROSS CLARK CIRCLE    \n",
       "2 010005          MARSHALL MEDICAL CENTER SOUTH    2505 U S HIGHWAY 431 NORTH\n",
       "3 010006          ELIZA COFFEE MEMORIAL HOSPITAL   205 MARENGO STREET        \n",
       "4 010007          MIZELL MEMORIAL HOSPITAL         702 N MAIN ST             \n",
       "5 010008          CRENSHAW COMMUNITY HOSPITAL      101 HOSPITAL CIRCLE       \n",
       "6 010010          MARSHALL MEDICAL CENTER NORTH    8000 ALABAMA HIGHWAY 69   \n",
       "  Address.2 Address.3 City         State ZIP.Code County.Name Phone.Number ⋯\n",
       "1                     DOTHAN       AL    36301    HOUSTON     3347938701   ⋯\n",
       "2                     BOAZ         AL    35957    MARSHALL    2565938310   ⋯\n",
       "3                     FLORENCE     AL    35631    LAUDERDALE  2567688400   ⋯\n",
       "4                     OPP          AL    36467    COVINGTON   3344933541   ⋯\n",
       "5                     LUVERNE      AL    36049    CRENSHAW    3343353374   ⋯\n",
       "6                     GUNTERSVILLE AL    35976    MARSHALL    2565718000   ⋯\n",
       "  Lower.Readmission.Estimate...Hospital.30.Day.Readmission.Rates.from.Heart.Failure\n",
       "1 21.3                                                                             \n",
       "2 19.2                                                                             \n",
       "3 17.2                                                                             \n",
       "4 22.4                                                                             \n",
       "5 19.9                                                                             \n",
       "6 20.1                                                                             \n",
       "  Upper.Readmission.Estimate...Hospital.30.Day.Readmission.Rates.from.Heart.Failure\n",
       "1 26.5                                                                             \n",
       "2 26.1                                                                             \n",
       "3 22.9                                                                             \n",
       "4 31.9                                                                             \n",
       "5 30.2                                                                             \n",
       "6 28.2                                                                             \n",
       "  Number.of.Patients...Hospital.30.Day.Readmission.Rates.from.Heart.Failure\n",
       "1 891                                                                      \n",
       "2 264                                                                      \n",
       "3 614                                                                      \n",
       "4 135                                                                      \n",
       "5 59                                                                       \n",
       "6 173                                                                      \n",
       "  Footnote...Hospital.30.Day.Readmission.Rates.from.Heart.Failure\n",
       "1                                                                \n",
       "2                                                                \n",
       "3                                                                \n",
       "4                                                                \n",
       "5                                                                \n",
       "6                                                                \n",
       "  Hospital.30.Day.Readmission.Rates.from.Pneumonia\n",
       "1 17.1                                            \n",
       "2 17.6                                            \n",
       "3 16.9                                            \n",
       "4 19.4                                            \n",
       "5 18.0                                            \n",
       "6 18.7                                            \n",
       "  Comparison.to.U.S..Rate...Hospital.30.Day.Readmission.Rates.from.Pneumonia\n",
       "1 No Different than U.S. National Rate                                      \n",
       "2 No Different than U.S. National Rate                                      \n",
       "3 No Different than U.S. National Rate                                      \n",
       "4 No Different than U.S. National Rate                                      \n",
       "5 No Different than U.S. National Rate                                      \n",
       "6 No Different than U.S. National Rate                                      \n",
       "  Lower.Readmission.Estimate...Hospital.30.Day.Readmission.Rates.from.Pneumonia\n",
       "1 14.4                                                                         \n",
       "2 15.0                                                                         \n",
       "3 14.7                                                                         \n",
       "4 15.9                                                                         \n",
       "5 14.0                                                                         \n",
       "6 15.7                                                                         \n",
       "  Upper.Readmission.Estimate...Hospital.30.Day.Readmission.Rates.from.Pneumonia\n",
       "1 20.4                                                                         \n",
       "2 20.6                                                                         \n",
       "3 19.5                                                                         \n",
       "4 23.2                                                                         \n",
       "5 22.8                                                                         \n",
       "6 22.2                                                                         \n",
       "  Number.of.Patients...Hospital.30.Day.Readmission.Rates.from.Pneumonia\n",
       "1 400                                                                  \n",
       "2 374                                                                  \n",
       "3 842                                                                  \n",
       "4 254                                                                  \n",
       "5 56                                                                   \n",
       "6 326                                                                  \n",
       "  Footnote...Hospital.30.Day.Readmission.Rates.from.Pneumonia\n",
       "1                                                            \n",
       "2                                                            \n",
       "3                                                            \n",
       "4                                                            \n",
       "5                                                            \n",
       "6                                                            "
      ]
     },
     "metadata": {},
     "output_type": "display_data"
    }
   ],
   "source": [
    "outcomes <- read.csv(\"assignment_data/outcome-of-care-measures.csv\", colClasses = \"character\")\n",
    "head(outcomes)"
   ]
  },
  {
   "cell_type": "code",
   "execution_count": 17,
   "metadata": {
    "vscode": {
     "languageId": "r"
    }
   },
   "outputs": [
    {
     "name": "stderr",
     "output_type": "stream",
     "text": [
      "Warning message:\n",
      "\"NAs introduced by coercion\"\n"
     ]
    },
    {
     "data": {
      "image/png": "[encoded data removed]",
      "text/plain": [
       "Plot with title \"Histogram of outcomes[, 11]\""
      ]
     },
     "metadata": {
      "image/png": {
       "height": 420,
       "width": 420
      }
     },
     "output_type": "display_data"
    }
   ],
   "source": [
    "outcomes[, 11] <- as.numeric(outcomes[, 11])\n",
    "hist(outcomes[, 11])\n"
   ]
  },
  {
   "cell_type": "code",
   "execution_count": 20,
   "metadata": {
    "vscode": {
     "languageId": "r"
    }
   },
   "outputs": [],
   "source": [
    "best <- function(state, outcome) {\n",
    "  # Check that state is valid\n",
    "  valid_states <- unique(outcomes[,\"State\"])\n",
    "  if (!state %in% valid_states) {\n",
    "    stop(\"invalid state\")\n",
    "  }\n",
    "  \n",
    "  # Map outcome names to column numbers\n",
    "  outcome_map <- c(\n",
    "    \"heart attack\" = 11,\n",
    "    \"heart failure\" = 17, \n",
    "    \"pneumonia\" = 23\n",
    "  )\n",
    "  \n",
    "  # Check that outcome is valid\n",
    "  if (!outcome %in% names(outcome_map)) {\n",
    "    stop(\"invalid outcome\")\n",
    "  }\n",
    "  \n",
    "  # Get column number for the outcome\n",
    "  outcome_col <- outcome_map[outcome]\n",
    "  \n",
    "  # Convert outcome column to numeric\n",
    "  outcomes[, outcome_col] <- as.numeric(outcomes[, outcome_col])\n",
    "  \n",
    "  # Filter for the specified state and remove NA values\n",
    "  state_data <- outcomes[outcomes$State == state & !is.na(outcomes[,outcome_col]), ]\n",
    "  \n",
    "  # Find hospital with lowest rate\n",
    "  min_rate <- min(state_data[, outcome_col])\n",
    "  best_hospitals <- state_data[state_data[,outcome_col] == min_rate, ]\n",
    "  \n",
    "  # If there are ties, sort alphabetically by hospital name\n",
    "  best_hospital <- sort(best_hospitals$Hospital.Name)[1]\n",
    "  \n",
    "  return(best_hospital)\n",
    "}"
   ]
  },
  {
   "cell_type": "code",
   "execution_count": 22,
   "metadata": {
    "vscode": {
     "languageId": "r"
    }
   },
   "outputs": [
    {
     "name": "stderr",
     "output_type": "stream",
     "text": [
      "Warning message in best(\"MD\", \"pneumonia\"):\n",
      "\"NAs introduced by coercion\"\n"
     ]
    },
    {
     "data": {
      "text/html": [
       "'GREATER BALTIMORE MEDICAL CENTER'"
      ],
      "text/latex": [
       "'GREATER BALTIMORE MEDICAL CENTER'"
      ],
      "text/markdown": [
       "'GREATER BALTIMORE MEDICAL CENTER'"
      ],
      "text/plain": [
       "[1] \"GREATER BALTIMORE MEDICAL CENTER\""
      ]
     },
     "metadata": {},
     "output_type": "display_data"
    }
   ],
   "source": [
    "best(\"MD\", \"pneumonia\")"
   ]
  },
  {
   "cell_type": "code",
   "execution_count": 24,
   "metadata": {
    "vscode": {
     "languageId": "r"
    }
   },
   "outputs": [
    {
     "name": "stderr",
     "output_type": "stream",
     "text": [
      "Warning message in rankhospital(\"TX\", \"heart failure\", 4):\n",
      "\"NAs introduced by coercion\"\n"
     ]
    },
    {
     "data": {
      "text/html": [
       "'DETAR HOSPITAL NAVARRO'"
      ],
      "text/latex": [
       "'DETAR HOSPITAL NAVARRO'"
      ],
      "text/markdown": [
       "'DETAR HOSPITAL NAVARRO'"
      ],
      "text/plain": [
       "[1] \"DETAR HOSPITAL NAVARRO\""
      ]
     },
     "metadata": {},
     "output_type": "display_data"
    },
    {
     "name": "stderr",
     "output_type": "stream",
     "text": [
      "Warning message in rankhospital(\"MN\", \"heart attack\", 5000):\n",
      "\"NAs introduced by coercion\"\n"
     ]
    },
    {
     "data": {
      "text/html": [
       "&lt;NA&gt;"
      ],
      "text/latex": [
       "<NA>"
      ],
      "text/markdown": [
       "&lt;NA&gt;"
      ],
      "text/plain": [
       "[1] NA"
      ]
     },
     "metadata": {},
     "output_type": "display_data"
    }
   ],
   "source": [
    "rankhospital <- function(state, outcome, num = \"best\") {\n",
    "  # Check that state is valid\n",
    "  valid_states <- unique(outcomes[,\"State\"])\n",
    "  if (!state %in% valid_states) {\n",
    "    stop(\"invalid state\")\n",
    "  }\n",
    "  \n",
    "  # Map outcome names to column numbers\n",
    "  outcome_map <- c(\n",
    "    \"heart attack\" = 11,\n",
    "    \"heart failure\" = 17, \n",
    "    \"pneumonia\" = 23\n",
    "  )\n",
    "\n",
    "  # Check that outcome is valid\n",
    "  if (!outcome %in% names(outcome_map)) {\n",
    "    stop(\"invalid outcome\")\n",
    "  }\n",
    "  \n",
    "  # Get column number for the outcome\n",
    "  outcome_col <- outcome_map[outcome]\n",
    "  \n",
    "  # Convert outcome column to numeric\n",
    "  outcomes[, outcome_col] <- as.numeric(outcomes[, outcome_col])\n",
    "  \n",
    "  # Filter for the specified state and remove NA values\n",
    "  state_data <- outcomes[outcomes$State == state & !is.na(outcomes[,outcome_col]), ]\n",
    "  \n",
    "  # Sort by outcome rate and hospital name\n",
    "  sorted_data <- state_data[order(state_data[,outcome_col], state_data$Hospital.Name), ]\n",
    "  \n",
    "  # Handle \"best\" and \"worst\" cases\n",
    "  if (num == \"best\") {\n",
    "    return(sorted_data$Hospital.Name[1])\n",
    "  } else if (num == \"worst\") {\n",
    "    return(sorted_data$Hospital.Name[nrow(sorted_data)])\n",
    "  } else if (num > nrow(sorted_data)) {\n",
    "    return(NA)\n",
    "  } else {\n",
    "    return(sorted_data$Hospital.Name[num])\n",
    "  }\n",
    "}\n",
    "rankhospital(\"TX\", \"heart failure\", 4)\n",
    "rankhospital(\"MN\", \"heart attack\", 5000)\n",
    "\n"
   ]
  },
  {
   "cell_type": "code",
   "execution_count": 26,
   "metadata": {
    "vscode": {
     "languageId": "r"
    }
   },
   "outputs": [
    {
     "name": "stderr",
     "output_type": "stream",
     "text": [
      "Warning message in rankall(\"heart attack\", 20):\n",
      "\"NAs introduced by coercion\"\n"
     ]
    },
    {
     "data": {
      "text/html": [
       "<table class=\"dataframe\">\n",
       "<caption>A data.frame: 10 × 2</caption>\n",
       "<thead>\n",
       "\t<tr><th></th><th scope=col>hospital</th><th scope=col>state</th></tr>\n",
       "\t<tr><th></th><th scope=col>&lt;chr&gt;</th><th scope=col>&lt;chr&gt;</th></tr>\n",
       "</thead>\n",
       "<tbody>\n",
       "\t<tr><th scope=row>AK</th><td>NA                                 </td><td>AK</td></tr>\n",
       "\t<tr><th scope=row>AL</th><td>D W MCMILLAN MEMORIAL HOSPITAL     </td><td>AL</td></tr>\n",
       "\t<tr><th scope=row>AR</th><td>ARKANSAS METHODIST MEDICAL CENTER  </td><td>AR</td></tr>\n",
       "\t<tr><th scope=row>AZ</th><td>JOHN C LINCOLN DEER VALLEY HOSPITAL</td><td>AZ</td></tr>\n",
       "\t<tr><th scope=row>CA</th><td>SHERMAN OAKS HOSPITAL              </td><td>CA</td></tr>\n",
       "\t<tr><th scope=row>CO</th><td>SKY RIDGE MEDICAL CENTER           </td><td>CO</td></tr>\n",
       "\t<tr><th scope=row>CT</th><td>MIDSTATE MEDICAL CENTER            </td><td>CT</td></tr>\n",
       "\t<tr><th scope=row>DC</th><td>NA                                 </td><td>DC</td></tr>\n",
       "\t<tr><th scope=row>DE</th><td>NA                                 </td><td>DE</td></tr>\n",
       "\t<tr><th scope=row>FL</th><td>SOUTH FLORIDA BAPTIST HOSPITAL     </td><td>FL</td></tr>\n",
       "</tbody>\n",
       "</table>\n"
      ],
      "text/latex": [
       "A data.frame: 10 × 2\n",
       "\\begin{tabular}{r|ll}\n",
       "  & hospital & state\\\\\n",
       "  & <chr> & <chr>\\\\\n",
       "\\hline\n",
       "\tAK & NA                                  & AK\\\\\n",
       "\tAL & D W MCMILLAN MEMORIAL HOSPITAL      & AL\\\\\n",
       "\tAR & ARKANSAS METHODIST MEDICAL CENTER   & AR\\\\\n",
       "\tAZ & JOHN C LINCOLN DEER VALLEY HOSPITAL & AZ\\\\\n",
       "\tCA & SHERMAN OAKS HOSPITAL               & CA\\\\\n",
       "\tCO & SKY RIDGE MEDICAL CENTER            & CO\\\\\n",
       "\tCT & MIDSTATE MEDICAL CENTER             & CT\\\\\n",
       "\tDC & NA                                  & DC\\\\\n",
       "\tDE & NA                                  & DE\\\\\n",
       "\tFL & SOUTH FLORIDA BAPTIST HOSPITAL      & FL\\\\\n",
       "\\end{tabular}\n"
      ],
      "text/markdown": [
       "\n",
       "A data.frame: 10 × 2\n",
       "\n",
       "| <!--/--> | hospital &lt;chr&gt; | state &lt;chr&gt; |\n",
       "|---|---|---|\n",
       "| AK | NA                                  | AK |\n",
       "| AL | D W MCMILLAN MEMORIAL HOSPITAL      | AL |\n",
       "| AR | ARKANSAS METHODIST MEDICAL CENTER   | AR |\n",
       "| AZ | JOHN C LINCOLN DEER VALLEY HOSPITAL | AZ |\n",
       "| CA | SHERMAN OAKS HOSPITAL               | CA |\n",
       "| CO | SKY RIDGE MEDICAL CENTER            | CO |\n",
       "| CT | MIDSTATE MEDICAL CENTER             | CT |\n",
       "| DC | NA                                  | DC |\n",
       "| DE | NA                                  | DE |\n",
       "| FL | SOUTH FLORIDA BAPTIST HOSPITAL      | FL |\n",
       "\n"
      ],
      "text/plain": [
       "   hospital                            state\n",
       "AK NA                                  AK   \n",
       "AL D W MCMILLAN MEMORIAL HOSPITAL      AL   \n",
       "AR ARKANSAS METHODIST MEDICAL CENTER   AR   \n",
       "AZ JOHN C LINCOLN DEER VALLEY HOSPITAL AZ   \n",
       "CA SHERMAN OAKS HOSPITAL               CA   \n",
       "CO SKY RIDGE MEDICAL CENTER            CO   \n",
       "CT MIDSTATE MEDICAL CENTER             CT   \n",
       "DC NA                                  DC   \n",
       "DE NA                                  DE   \n",
       "FL SOUTH FLORIDA BAPTIST HOSPITAL      FL   "
      ]
     },
     "metadata": {},
     "output_type": "display_data"
    }
   ],
   "source": [
    "rankall <- function(outcome, num = \"best\") {\n",
    "  # Check that outcome is valid\n",
    "  outcome_map <- c(\n",
    "    \"heart attack\" = 11,\n",
    "    \"heart failure\" = 17, \n",
    "    \"pneumonia\" = 23\n",
    "  )\n",
    "  \n",
    "  if (!outcome %in% names(outcome_map)) {\n",
    "    stop(\"invalid outcome\")\n",
    "  }\n",
    "  \n",
    "  # Get column number for the outcome\n",
    "  outcome_col <- outcome_map[outcome]\n",
    "  \n",
    "  # Convert outcome column to numeric\n",
    "  outcomes[, outcome_col] <- as.numeric(outcomes[, outcome_col])\n",
    "  \n",
    "  # Get list of all states\n",
    "  states <- sort(unique(outcomes$State))\n",
    "  \n",
    "  # Create empty vectors to store results\n",
    "  hospitals <- vector(\"character\", length(states))\n",
    "  \n",
    "  # For each state, find the hospital of given rank\n",
    "  for (i in seq_along(states)) {\n",
    "    state <- states[i]\n",
    "    state_data <- outcomes[outcomes$State == state & !is.na(outcomes[,outcome_col]), ]\n",
    "    \n",
    "    # Sort by outcome rate and hospital name\n",
    "    sorted_data <- state_data[order(state_data[,outcome_col], state_data$Hospital.Name), ]\n",
    "    \n",
    "    # Get hospital name based on rank\n",
    "    if (nrow(sorted_data) == 0) {\n",
    "      hospitals[i] <- NA\n",
    "    } else if (num == \"best\") {\n",
    "      hospitals[i] <- sorted_data$Hospital.Name[1]\n",
    "    } else if (num == \"worst\") {\n",
    "      hospitals[i] <- sorted_data$Hospital.Name[nrow(sorted_data)]\n",
    "    } else if (num > nrow(sorted_data)) {\n",
    "      hospitals[i] <- NA\n",
    "    } else {\n",
    "      hospitals[i] <- sorted_data$Hospital.Name[num]\n",
    "    }\n",
    "  }\n",
    "  \n",
    "  # Create and return data frame\n",
    "  data.frame(\n",
    "    hospital = hospitals,\n",
    "    state = states,\n",
    "    row.names = states,\n",
    "    stringsAsFactors = FALSE\n",
    "  )\n",
    "}\n",
    "\n",
    "head(rankall(\"heart attack\", 20), 10)\n",
    "\n"
   ]
  },
  {
   "cell_type": "code",
   "execution_count": 27,
   "metadata": {
    "vscode": {
     "languageId": "r"
    }
   },
   "outputs": [
    {
     "name": "stderr",
     "output_type": "stream",
     "text": [
      "Warning message in best(\"SC\", \"heart attack\"):\n",
      "\"NAs introduced by coercion\"\n"
     ]
    },
    {
     "data": {
      "text/html": [
       "'MUSC MEDICAL CENTER'"
      ],
      "text/latex": [
       "'MUSC MEDICAL CENTER'"
      ],
      "text/markdown": [
       "'MUSC MEDICAL CENTER'"
      ],
      "text/plain": [
       "[1] \"MUSC MEDICAL CENTER\""
      ]
     },
     "metadata": {},
     "output_type": "display_data"
    },
    {
     "name": "stderr",
     "output_type": "stream",
     "text": [
      "Warning message in best(\"NY\", \"pneumonia\"):\n",
      "\"NAs introduced by coercion\"\n"
     ]
    },
    {
     "data": {
      "text/html": [
       "'MAIMONIDES MEDICAL CENTER'"
      ],
      "text/latex": [
       "'MAIMONIDES MEDICAL CENTER'"
      ],
      "text/markdown": [
       "'MAIMONIDES MEDICAL CENTER'"
      ],
      "text/plain": [
       "[1] \"MAIMONIDES MEDICAL CENTER\""
      ]
     },
     "metadata": {},
     "output_type": "display_data"
    },
    {
     "name": "stderr",
     "output_type": "stream",
     "text": [
      "Warning message in best(\"AK\", \"pneumonia\"):\n",
      "\"NAs introduced by coercion\"\n"
     ]
    },
    {
     "data": {
      "text/html": [
       "'YUKON KUSKOKWIM DELTA REG HOSPITAL'"
      ],
      "text/latex": [
       "'YUKON KUSKOKWIM DELTA REG HOSPITAL'"
      ],
      "text/markdown": [
       "'YUKON KUSKOKWIM DELTA REG HOSPITAL'"
      ],
      "text/plain": [
       "[1] \"YUKON KUSKOKWIM DELTA REG HOSPITAL\""
      ]
     },
     "metadata": {},
     "output_type": "display_data"
    },
    {
     "name": "stderr",
     "output_type": "stream",
     "text": [
      "Warning message in rankhospital(\"NC\", \"heart attack\", \"worst\"):\n",
      "\"NAs introduced by coercion\"\n"
     ]
    },
    {
     "data": {
      "text/html": [
       "'WAYNE MEMORIAL HOSPITAL'"
      ],
      "text/latex": [
       "'WAYNE MEMORIAL HOSPITAL'"
      ],
      "text/markdown": [
       "'WAYNE MEMORIAL HOSPITAL'"
      ],
      "text/plain": [
       "[1] \"WAYNE MEMORIAL HOSPITAL\""
      ]
     },
     "metadata": {},
     "output_type": "display_data"
    },
    {
     "name": "stderr",
     "output_type": "stream",
     "text": [
      "Warning message in rankhospital(\"WA\", \"heart attack\", 7):\n",
      "\"NAs introduced by coercion\"\n"
     ]
    },
    {
     "data": {
      "text/html": [
       "'YAKIMA VALLEY MEMORIAL HOSPITAL'"
      ],
      "text/latex": [
       "'YAKIMA VALLEY MEMORIAL HOSPITAL'"
      ],
      "text/markdown": [
       "'YAKIMA VALLEY MEMORIAL HOSPITAL'"
      ],
      "text/plain": [
       "[1] \"YAKIMA VALLEY MEMORIAL HOSPITAL\""
      ]
     },
     "metadata": {},
     "output_type": "display_data"
    },
    {
     "name": "stderr",
     "output_type": "stream",
     "text": [
      "Warning message in rankhospital(\"TX\", \"pneumonia\", 10):\n",
      "\"NAs introduced by coercion\"\n"
     ]
    },
    {
     "data": {
      "text/html": [
       "'SETON SMITHVILLE REGIONAL HOSPITAL'"
      ],
      "text/latex": [
       "'SETON SMITHVILLE REGIONAL HOSPITAL'"
      ],
      "text/markdown": [
       "'SETON SMITHVILLE REGIONAL HOSPITAL'"
      ],
      "text/plain": [
       "[1] \"SETON SMITHVILLE REGIONAL HOSPITAL\""
      ]
     },
     "metadata": {},
     "output_type": "display_data"
    },
    {
     "name": "stderr",
     "output_type": "stream",
     "text": [
      "Warning message in rankhospital(\"NY\", \"heart attack\", 7):\n",
      "\"NAs introduced by coercion\"\n"
     ]
    },
    {
     "data": {
      "text/html": [
       "'BELLEVUE HOSPITAL CENTER'"
      ],
      "text/latex": [
       "'BELLEVUE HOSPITAL CENTER'"
      ],
      "text/markdown": [
       "'BELLEVUE HOSPITAL CENTER'"
      ],
      "text/plain": [
       "[1] \"BELLEVUE HOSPITAL CENTER\""
      ]
     },
     "metadata": {},
     "output_type": "display_data"
    },
    {
     "name": "stderr",
     "output_type": "stream",
     "text": [
      "Warning message in rankall(\"heart attack\", 4):\n",
      "\"NAs introduced by coercion\"\n"
     ]
    },
    {
     "data": {
      "text/html": [
       "'CASTLE MEDICAL CENTER'"
      ],
      "text/latex": [
       "'CASTLE MEDICAL CENTER'"
      ],
      "text/markdown": [
       "'CASTLE MEDICAL CENTER'"
      ],
      "text/plain": [
       "[1] \"CASTLE MEDICAL CENTER\""
      ]
     },
     "metadata": {},
     "output_type": "display_data"
    },
    {
     "name": "stderr",
     "output_type": "stream",
     "text": [
      "Warning message in rankall(\"pneumonia\", \"worst\"):\n",
      "\"NAs introduced by coercion\"\n"
     ]
    },
    {
     "data": {
      "text/html": [
       "'BERGEN REGIONAL MEDICAL CENTER'"
      ],
      "text/latex": [
       "'BERGEN REGIONAL MEDICAL CENTER'"
      ],
      "text/markdown": [
       "'BERGEN REGIONAL MEDICAL CENTER'"
      ],
      "text/plain": [
       "[1] \"BERGEN REGIONAL MEDICAL CENTER\""
      ]
     },
     "metadata": {},
     "output_type": "display_data"
    },
    {
     "name": "stderr",
     "output_type": "stream",
     "text": [
      "Warning message in rankall(\"heart failure\", 10):\n",
      "\"NAs introduced by coercion\"\n"
     ]
    },
    {
     "data": {
      "text/html": [
       "'RENOWN SOUTH MEADOWS MEDICAL CENTER'"
      ],
      "text/latex": [
       "'RENOWN SOUTH MEADOWS MEDICAL CENTER'"
      ],
      "text/markdown": [
       "'RENOWN SOUTH MEADOWS MEDICAL CENTER'"
      ],
      "text/plain": [
       "[1] \"RENOWN SOUTH MEADOWS MEDICAL CENTER\""
      ]
     },
     "metadata": {},
     "output_type": "display_data"
    }
   ],
   "source": [
    "best(\"SC\", \"heart attack\")\n",
    "best(\"NY\", \"pneumonia\")\n",
    "best(\"AK\", \"pneumonia\")\n",
    "rankhospital(\"NC\", \"heart attack\", \"worst\")\n",
    "rankhospital(\"WA\", \"heart attack\", 7)\n",
    "rankhospital(\"TX\", \"pneumonia\", 10)\n",
    "rankhospital(\"NY\", \"heart attack\", 7)\n",
    "r <- rankall(\"heart attack\", 4)\n",
    "as.character(subset(r, state == \"HI\")$hospital)\n",
    "r <- rankall(\"pneumonia\", \"worst\")\n",
    "as.character(subset(r, state == \"NJ\")$hospital)\n",
    "r <- rankall(\"heart failure\", 10)\n",
    "as.character(subset(r, state == \"NV\")$hospital)"
   ]
  }
 ],
 "metadata": {
  "kernelspec": {
   "display_name": "R",
   "language": "R",
   "name": "ir"
  },
  "language_info": {
   "codemirror_mode": "r",
   "file_extension": ".r",
   "mimetype": "text/x-r-source",
   "name": "R",
   "pygments_lexer": "r",
   "version": "4.5.0"
  }
 },
 "nbformat": 4,
 "nbformat_minor": 2
}
