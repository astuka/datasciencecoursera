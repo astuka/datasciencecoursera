{
 "cells": [
  {
   "cell_type": "code",
   "execution_count": 1,
   "metadata": {
    "vscode": {
     "languageId": "r"
    }
   },
   "outputs": [
    {
     "data": {
      "text/html": [
       "<style>\n",
       ".list-inline {list-style: none; margin:0; padding: 0}\n",
       ".list-inline>li {display: inline-block}\n",
       ".list-inline>li:not(:last-child)::after {content: \"\\00b7\"; padding: 0 .5ex}\n",
       "</style>\n",
       "<ol class=list-inline><li>125</li><li>238</li><li>262</li><li>470</li><li>555</li><li>568</li><li>608</li><li>643</li><li>787</li><li>808</li><li>824</li><li>849</li><li>952</li><li>955</li><li>1033</li><li>1265</li><li>1275</li><li>1315</li><li>1388</li><li>1607</li><li>1629</li><li>1651</li><li>1856</li><li>1919</li><li>2101</li><li>2194</li><li>2403</li><li>2443</li><li>2539</li><li>2580</li><li>2655</li><li>2680</li><li>2740</li><li>2838</li><li>2965</li><li>3131</li><li>3133</li><li>3163</li><li>3291</li><li>3370</li><li>3402</li><li>3585</li><li>3652</li><li>3852</li><li>3862</li><li>3912</li><li>4023</li><li>4045</li><li>4107</li><li>4113</li><li>4117</li><li>4185</li><li>4198</li><li>4310</li><li>4343</li><li>4354</li><li>4448</li><li>4453</li><li>4461</li><li>4718</li><li>4817</li><li>4835</li><li>4910</li><li>5140</li><li>5199</li><li>5236</li><li>5326</li><li>5417</li><li>5531</li><li>5574</li><li>5894</li><li>6033</li><li>6044</li><li>6089</li><li>6275</li><li>6376</li><li>6420</li></ol>\n"
      ],
      "text/latex": [
       "\\begin{enumerate*}\n",
       "\\item 125\n",
       "\\item 238\n",
       "\\item 262\n",
       "\\item 470\n",
       "\\item 555\n",
       "\\item 568\n",
       "\\item 608\n",
       "\\item 643\n",
       "\\item 787\n",
       "\\item 808\n",
       "\\item 824\n",
       "\\item 849\n",
       "\\item 952\n",
       "\\item 955\n",
       "\\item 1033\n",
       "\\item 1265\n",
       "\\item 1275\n",
       "\\item 1315\n",
       "\\item 1388\n",
       "\\item 1607\n",
       "\\item 1629\n",
       "\\item 1651\n",
       "\\item 1856\n",
       "\\item 1919\n",
       "\\item 2101\n",
       "\\item 2194\n",
       "\\item 2403\n",
       "\\item 2443\n",
       "\\item 2539\n",
       "\\item 2580\n",
       "\\item 2655\n",
       "\\item 2680\n",
       "\\item 2740\n",
       "\\item 2838\n",
       "\\item 2965\n",
       "\\item 3131\n",
       "\\item 3133\n",
       "\\item 3163\n",
       "\\item 3291\n",
       "\\item 3370\n",
       "\\item 3402\n",
       "\\item 3585\n",
       "\\item 3652\n",
       "\\item 3852\n",
       "\\item 3862\n",
       "\\item 3912\n",
       "\\item 4023\n",
       "\\item 4045\n",
       "\\item 4107\n",
       "\\item 4113\n",
       "\\item 4117\n",
       "\\item 4185\n",
       "\\item 4198\n",
       "\\item 4310\n",
       "\\item 4343\n",
       "\\item 4354\n",
       "\\item 4448\n",
       "\\item 4453\n",
       "\\item 4461\n",
       "\\item 4718\n",
       "\\item 4817\n",
       "\\item 4835\n",
       "\\item 4910\n",
       "\\item 5140\n",
       "\\item 5199\n",
       "\\item 5236\n",
       "\\item 5326\n",
       "\\item 5417\n",
       "\\item 5531\n",
       "\\item 5574\n",
       "\\item 5894\n",
       "\\item 6033\n",
       "\\item 6044\n",
       "\\item 6089\n",
       "\\item 6275\n",
       "\\item 6376\n",
       "\\item 6420\n",
       "\\end{enumerate*}\n"
      ],
      "text/markdown": [
       "1. 125\n",
       "2. 238\n",
       "3. 262\n",
       "4. 470\n",
       "5. 555\n",
       "6. 568\n",
       "7. 608\n",
       "8. 643\n",
       "9. 787\n",
       "10. 808\n",
       "11. 824\n",
       "12. 849\n",
       "13. 952\n",
       "14. 955\n",
       "15. 1033\n",
       "16. 1265\n",
       "17. 1275\n",
       "18. 1315\n",
       "19. 1388\n",
       "20. 1607\n",
       "21. 1629\n",
       "22. 1651\n",
       "23. 1856\n",
       "24. 1919\n",
       "25. 2101\n",
       "26. 2194\n",
       "27. 2403\n",
       "28. 2443\n",
       "29. 2539\n",
       "30. 2580\n",
       "31. 2655\n",
       "32. 2680\n",
       "33. 2740\n",
       "34. 2838\n",
       "35. 2965\n",
       "36. 3131\n",
       "37. 3133\n",
       "38. 3163\n",
       "39. 3291\n",
       "40. 3370\n",
       "41. 3402\n",
       "42. 3585\n",
       "43. 3652\n",
       "44. 3852\n",
       "45. 3862\n",
       "46. 3912\n",
       "47. 4023\n",
       "48. 4045\n",
       "49. 4107\n",
       "50. 4113\n",
       "51. 4117\n",
       "52. 4185\n",
       "53. 4198\n",
       "54. 4310\n",
       "55. 4343\n",
       "56. 4354\n",
       "57. 4448\n",
       "58. 4453\n",
       "59. 4461\n",
       "60. 4718\n",
       "61. 4817\n",
       "62. 4835\n",
       "63. 4910\n",
       "64. 5140\n",
       "65. 5199\n",
       "66. 5236\n",
       "67. 5326\n",
       "68. 5417\n",
       "69. 5531\n",
       "70. 5574\n",
       "71. 5894\n",
       "72. 6033\n",
       "73. 6044\n",
       "74. 6089\n",
       "75. 6275\n",
       "76. 6376\n",
       "77. 6420\n",
       "\n",
       "\n"
      ],
      "text/plain": [
       " [1]  125  238  262  470  555  568  608  643  787  808  824  849  952  955 1033\n",
       "[16] 1265 1275 1315 1388 1607 1629 1651 1856 1919 2101 2194 2403 2443 2539 2580\n",
       "[31] 2655 2680 2740 2838 2965 3131 3133 3163 3291 3370 3402 3585 3652 3852 3862\n",
       "[46] 3912 4023 4045 4107 4113 4117 4185 4198 4310 4343 4354 4448 4453 4461 4718\n",
       "[61] 4817 4835 4910 5140 5199 5236 5326 5417 5531 5574 5894 6033 6044 6089 6275\n",
       "[76] 6376 6420"
      ]
     },
     "metadata": {},
     "output_type": "display_data"
    }
   ],
   "source": [
    "# Download the data file\n",
    "download.file(\"https://d396qusza40orc.cloudfront.net/getdata%2Fdata%2Fss06hid.csv\", \n",
    "              destfile = \"ss06hid.csv\")\n",
    "\n",
    "# Read the CSV file\n",
    "data <- read.csv(\"ss06hid.csv\")\n",
    "\n",
    "# Create logical vector for:\n",
    "# 1. Households on >10 acres (AGS = 6)\n",
    "# 2. Sold >$10,000 agriculture products (AGS = 6)\n",
    "agricultureLogical <- (data$ACR == 3 & data$AGS == 6)\n",
    "\n",
    "# Show which rows meet the criteria\n",
    "which(agricultureLogical)\n"
   ]
  },
  {
   "cell_type": "code",
   "execution_count": 4,
   "metadata": {
    "vscode": {
     "languageId": "r"
    }
   },
   "outputs": [
    {
     "data": {
      "text/html": [
       "<style>\n",
       ".dl-inline {width: auto; margin:0; padding: 0}\n",
       ".dl-inline>dt, .dl-inline>dd {float: none; width: auto; display: inline-block}\n",
       ".dl-inline>dt::after {content: \":\\0020\"; padding-right: .5ex}\n",
       ".dl-inline>dt:not(:first-of-type) {padding-left: .5ex}\n",
       "</style><dl class=dl-inline><dt>30%</dt><dd>-15259150.1</dd><dt>80%</dt><dd>-10575416</dd></dl>\n"
      ],
      "text/latex": [
       "\\begin{description*}\n",
       "\\item[30\\textbackslash{}\\%] -15259150.1\n",
       "\\item[80\\textbackslash{}\\%] -10575416\n",
       "\\end{description*}\n"
      ],
      "text/markdown": [
       "30%\n",
       ":   -15259150.180%\n",
       ":   -10575416\n",
       "\n"
      ],
      "text/plain": [
       "      30%       80% \n",
       "-15259150 -10575416 "
      ]
     },
     "metadata": {},
     "output_type": "display_data"
    }
   ],
   "source": [
    "library(jpeg)\n",
    "\n",
    "# Read the JPEG image\n",
    "img <- readJPEG(\"getdata_jeff.jpg\", native=TRUE)\n",
    "\n",
    "# Calculate the 30th and 80th quantiles\n",
    "quantile(img, probs = c(0.3, 0.8))\n"
   ]
  },
  {
   "cell_type": "code",
   "execution_count": 5,
   "metadata": {
    "vscode": {
     "languageId": "r"
    }
   },
   "outputs": [
    {
     "name": "stdout",
     "output_type": "stream",
     "text": [
      "[1] \"Number of matching IDs: 189\"\n",
      "[1] \"13th country: St. Kitts and Nevis\"\n"
     ]
    }
   ],
   "source": [
    "# Download GDP data\n",
    "download.file(\"https://d396qusza40orc.cloudfront.net/getdata%2Fdata%2FGDP.csv\",\n",
    "              destfile = \"GDP.csv\")\n",
    "\n",
    "# Download educational data  \n",
    "download.file(\"https://d396qusza40orc.cloudfront.net/getdata%2Fdata%2FEDSTATS_Country.csv\",\n",
    "              destfile = \"EDSTATS_Country.csv\")\n",
    "\n",
    "# Read the CSV files\n",
    "gdp_data <- read.csv(\"GDP.csv\", skip=4, nrows=190) # Skip header rows\n",
    "edu_data <- read.csv(\"EDSTATS_Country.csv\")\n",
    "\n",
    "# Clean GDP data - select relevant columns and rename\n",
    "gdp_clean <- gdp_data[,c(1,2,4,5)]\n",
    "names(gdp_clean) <- c(\"CountryCode\", \"Rank\", \"Country\", \"GDP\")\n",
    "gdp_clean$GDP <- as.numeric(gsub(\",\",\"\", gdp_clean$GDP))\n",
    "\n",
    "# Merge datasets by country code\n",
    "merged_data <- merge(gdp_clean, edu_data, by=\"CountryCode\")\n",
    "\n",
    "# Count matching IDs\n",
    "print(paste(\"Number of matching IDs:\", nrow(merged_data)))\n",
    "\n",
    "# Sort by GDP rank in descending order\n",
    "merged_data <- merged_data[order(-merged_data$Rank),]\n",
    "\n",
    "# Print 13th country\n",
    "print(paste(\"13th country:\", merged_data$Country[13]))\n"
   ]
  },
  {
   "cell_type": "code",
   "execution_count": 6,
   "metadata": {
    "vscode": {
     "languageId": "r"
    }
   },
   "outputs": [
    {
     "name": "stdout",
     "output_type": "stream",
     "text": [
      "          Income.Group     Rank\n",
      "1 High income: nonOECD 91.91304\n",
      "2    High income: OECD 32.96667\n"
     ]
    }
   ],
   "source": [
    "# Calculate average GDP ranking by income group\n",
    "income_groups <- c(\"High income: OECD\", \"High income: nonOECD\")\n",
    "avg_rankings <- aggregate(Rank ~ Income.Group, \n",
    "                        data=merged_data[merged_data$Income.Group %in% income_groups,], \n",
    "                        FUN=mean)\n",
    "\n",
    "# Display results\n",
    "print(avg_rankings)\n"
   ]
  },
  {
   "cell_type": "code",
   "execution_count": 7,
   "metadata": {
    "vscode": {
     "languageId": "r"
    }
   },
   "outputs": [
    {
     "name": "stdout",
     "output_type": "stream",
     "text": [
      "[1] \"Distribution of countries by income group and GDP quantile:\"\n",
      "                      \n",
      "                        1  2  3  4  5\n",
      "  High income: nonOECD  4  5  8  4  2\n",
      "  High income: OECD    18 10  1  1  0\n",
      "  Low income            0  1  9 16 11\n",
      "  Lower middle income   5 13 11  9 16\n",
      "  Upper middle income  11  9  8  8  9\n",
      "[1] \"Number of Lower middle income countries in highest GDP quantile: 5\"\n"
     ]
    }
   ],
   "source": [
    "# Create quantile groups for GDP ranking (1-5, with 1 being highest GDP)\n",
    "merged_data$GDPQuantile <- cut(merged_data$Rank, \n",
    "                              breaks=quantile(merged_data$Rank, probs=seq(0, 1, 0.2)), \n",
    "                              labels=1:5,\n",
    "                              include.lowest=TRUE)\n",
    "\n",
    "# Create contingency table of Income Group vs GDP Quantile\n",
    "gdp_income_table <- table(merged_data$Income.Group, merged_data$GDPQuantile)\n",
    "print(\"Distribution of countries by income group and GDP quantile:\")\n",
    "print(gdp_income_table)\n",
    "\n",
    "# Find number of Lower middle income countries in highest GDP quantile (group 1)\n",
    "lower_middle_high_gdp <- sum(merged_data$Income.Group == \"Lower middle income\" & \n",
    "                            merged_data$GDPQuantile == 1)\n",
    "print(paste(\"Number of Lower middle income countries in highest GDP quantile:\", \n",
    "            lower_middle_high_gdp))\n"
   ]
  }
 ],
 "metadata": {
  "kernelspec": {
   "display_name": "R",
   "language": "R",
   "name": "ir"
  },
  "language_info": {
   "codemirror_mode": "r",
   "file_extension": ".r",
   "mimetype": "text/x-r-source",
   "name": "R",
   "pygments_lexer": "r",
   "version": "4.5.0"
  }
 },
 "nbformat": 4,
 "nbformat_minor": 2
}
