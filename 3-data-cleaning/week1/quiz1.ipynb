{
 "cells": [
  {
   "cell_type": "code",
   "execution_count": 1,
   "metadata": {
    "vscode": {
     "languageId": "r"
    }
   },
   "outputs": [
    {
     "data": {
      "text/html": [
       "<table class=\"dataframe\">\n",
       "<caption>A data.frame: 6 × 188</caption>\n",
       "<thead>\n",
       "\t<tr><th></th><th scope=col>RT</th><th scope=col>SERIALNO</th><th scope=col>DIVISION</th><th scope=col>PUMA</th><th scope=col>REGION</th><th scope=col>ST</th><th scope=col>ADJUST</th><th scope=col>WGTP</th><th scope=col>NP</th><th scope=col>TYPE</th><th scope=col>⋯</th><th scope=col>wgtp71</th><th scope=col>wgtp72</th><th scope=col>wgtp73</th><th scope=col>wgtp74</th><th scope=col>wgtp75</th><th scope=col>wgtp76</th><th scope=col>wgtp77</th><th scope=col>wgtp78</th><th scope=col>wgtp79</th><th scope=col>wgtp80</th></tr>\n",
       "\t<tr><th></th><th scope=col>&lt;chr&gt;</th><th scope=col>&lt;int&gt;</th><th scope=col>&lt;int&gt;</th><th scope=col>&lt;int&gt;</th><th scope=col>&lt;int&gt;</th><th scope=col>&lt;int&gt;</th><th scope=col>&lt;int&gt;</th><th scope=col>&lt;int&gt;</th><th scope=col>&lt;int&gt;</th><th scope=col>&lt;int&gt;</th><th scope=col>⋯</th><th scope=col>&lt;int&gt;</th><th scope=col>&lt;int&gt;</th><th scope=col>&lt;int&gt;</th><th scope=col>&lt;int&gt;</th><th scope=col>&lt;int&gt;</th><th scope=col>&lt;int&gt;</th><th scope=col>&lt;int&gt;</th><th scope=col>&lt;int&gt;</th><th scope=col>&lt;int&gt;</th><th scope=col>&lt;int&gt;</th></tr>\n",
       "</thead>\n",
       "<tbody>\n",
       "\t<tr><th scope=row>1</th><td>H</td><td>186</td><td>8</td><td>700</td><td>4</td><td>16</td><td>1015675</td><td> 89</td><td>4</td><td>1</td><td>⋯</td><td> 81</td><td> 27</td><td> 93</td><td>151</td><td> 28</td><td> 79</td><td> 25</td><td>101</td><td>157</td><td>129</td></tr>\n",
       "\t<tr><th scope=row>2</th><td>H</td><td>306</td><td>8</td><td>700</td><td>4</td><td>16</td><td>1015675</td><td>310</td><td>1</td><td>1</td><td>⋯</td><td>292</td><td>401</td><td> 81</td><td>494</td><td>346</td><td>496</td><td>615</td><td>286</td><td>454</td><td>260</td></tr>\n",
       "\t<tr><th scope=row>3</th><td>H</td><td>395</td><td>8</td><td>100</td><td>4</td><td>16</td><td>1015675</td><td>106</td><td>2</td><td>1</td><td>⋯</td><td>123</td><td>119</td><td>168</td><td>107</td><td> 95</td><td>101</td><td> 30</td><td>124</td><td>106</td><td> 31</td></tr>\n",
       "\t<tr><th scope=row>4</th><td>H</td><td>506</td><td>8</td><td>700</td><td>4</td><td>16</td><td>1015675</td><td>240</td><td>4</td><td>1</td><td>⋯</td><td> 68</td><td>359</td><td>385</td><td> 71</td><td>234</td><td>421</td><td> 76</td><td> 77</td><td>242</td><td>231</td></tr>\n",
       "\t<tr><th scope=row>5</th><td>H</td><td>835</td><td>8</td><td>800</td><td>4</td><td>16</td><td>1015675</td><td>118</td><td>4</td><td>1</td><td>⋯</td><td>127</td><td> 36</td><td>119</td><td>121</td><td>116</td><td>209</td><td> 97</td><td>176</td><td>144</td><td> 38</td></tr>\n",
       "\t<tr><th scope=row>6</th><td>H</td><td>989</td><td>8</td><td>700</td><td>4</td><td>16</td><td>1015675</td><td>115</td><td>4</td><td>1</td><td>⋯</td><td>120</td><td> 34</td><td>109</td><td>199</td><td>116</td><td>110</td><td>211</td><td>120</td><td> 31</td><td>189</td></tr>\n",
       "</tbody>\n",
       "</table>\n"
      ],
      "text/latex": [
       "A data.frame: 6 × 188\n",
       "\\begin{tabular}{r|lllllllllllllllllllll}\n",
       "  & RT & SERIALNO & DIVISION & PUMA & REGION & ST & ADJUST & WGTP & NP & TYPE & ⋯ & wgtp71 & wgtp72 & wgtp73 & wgtp74 & wgtp75 & wgtp76 & wgtp77 & wgtp78 & wgtp79 & wgtp80\\\\\n",
       "  & <chr> & <int> & <int> & <int> & <int> & <int> & <int> & <int> & <int> & <int> & ⋯ & <int> & <int> & <int> & <int> & <int> & <int> & <int> & <int> & <int> & <int>\\\\\n",
       "\\hline\n",
       "\t1 & H & 186 & 8 & 700 & 4 & 16 & 1015675 &  89 & 4 & 1 & ⋯ &  81 &  27 &  93 & 151 &  28 &  79 &  25 & 101 & 157 & 129\\\\\n",
       "\t2 & H & 306 & 8 & 700 & 4 & 16 & 1015675 & 310 & 1 & 1 & ⋯ & 292 & 401 &  81 & 494 & 346 & 496 & 615 & 286 & 454 & 260\\\\\n",
       "\t3 & H & 395 & 8 & 100 & 4 & 16 & 1015675 & 106 & 2 & 1 & ⋯ & 123 & 119 & 168 & 107 &  95 & 101 &  30 & 124 & 106 &  31\\\\\n",
       "\t4 & H & 506 & 8 & 700 & 4 & 16 & 1015675 & 240 & 4 & 1 & ⋯ &  68 & 359 & 385 &  71 & 234 & 421 &  76 &  77 & 242 & 231\\\\\n",
       "\t5 & H & 835 & 8 & 800 & 4 & 16 & 1015675 & 118 & 4 & 1 & ⋯ & 127 &  36 & 119 & 121 & 116 & 209 &  97 & 176 & 144 &  38\\\\\n",
       "\t6 & H & 989 & 8 & 700 & 4 & 16 & 1015675 & 115 & 4 & 1 & ⋯ & 120 &  34 & 109 & 199 & 116 & 110 & 211 & 120 &  31 & 189\\\\\n",
       "\\end{tabular}\n"
      ],
      "text/markdown": [
       "\n",
       "A data.frame: 6 × 188\n",
       "\n",
       "| <!--/--> | RT &lt;chr&gt; | SERIALNO &lt;int&gt; | DIVISION &lt;int&gt; | PUMA &lt;int&gt; | REGION &lt;int&gt; | ST &lt;int&gt; | ADJUST &lt;int&gt; | WGTP &lt;int&gt; | NP &lt;int&gt; | TYPE &lt;int&gt; | ⋯ ⋯ | wgtp71 &lt;int&gt; | wgtp72 &lt;int&gt; | wgtp73 &lt;int&gt; | wgtp74 &lt;int&gt; | wgtp75 &lt;int&gt; | wgtp76 &lt;int&gt; | wgtp77 &lt;int&gt; | wgtp78 &lt;int&gt; | wgtp79 &lt;int&gt; | wgtp80 &lt;int&gt; |\n",
       "|---|---|---|---|---|---|---|---|---|---|---|---|---|---|---|---|---|---|---|---|---|---|\n",
       "| 1 | H | 186 | 8 | 700 | 4 | 16 | 1015675 |  89 | 4 | 1 | ⋯ |  81 |  27 |  93 | 151 |  28 |  79 |  25 | 101 | 157 | 129 |\n",
       "| 2 | H | 306 | 8 | 700 | 4 | 16 | 1015675 | 310 | 1 | 1 | ⋯ | 292 | 401 |  81 | 494 | 346 | 496 | 615 | 286 | 454 | 260 |\n",
       "| 3 | H | 395 | 8 | 100 | 4 | 16 | 1015675 | 106 | 2 | 1 | ⋯ | 123 | 119 | 168 | 107 |  95 | 101 |  30 | 124 | 106 |  31 |\n",
       "| 4 | H | 506 | 8 | 700 | 4 | 16 | 1015675 | 240 | 4 | 1 | ⋯ |  68 | 359 | 385 |  71 | 234 | 421 |  76 |  77 | 242 | 231 |\n",
       "| 5 | H | 835 | 8 | 800 | 4 | 16 | 1015675 | 118 | 4 | 1 | ⋯ | 127 |  36 | 119 | 121 | 116 | 209 |  97 | 176 | 144 |  38 |\n",
       "| 6 | H | 989 | 8 | 700 | 4 | 16 | 1015675 | 115 | 4 | 1 | ⋯ | 120 |  34 | 109 | 199 | 116 | 110 | 211 | 120 |  31 | 189 |\n",
       "\n"
      ],
      "text/plain": [
       "  RT SERIALNO DIVISION PUMA REGION ST ADJUST  WGTP NP TYPE ⋯ wgtp71 wgtp72\n",
       "1 H  186      8        700  4      16 1015675  89  4  1    ⋯  81     27   \n",
       "2 H  306      8        700  4      16 1015675 310  1  1    ⋯ 292    401   \n",
       "3 H  395      8        100  4      16 1015675 106  2  1    ⋯ 123    119   \n",
       "4 H  506      8        700  4      16 1015675 240  4  1    ⋯  68    359   \n",
       "5 H  835      8        800  4      16 1015675 118  4  1    ⋯ 127     36   \n",
       "6 H  989      8        700  4      16 1015675 115  4  1    ⋯ 120     34   \n",
       "  wgtp73 wgtp74 wgtp75 wgtp76 wgtp77 wgtp78 wgtp79 wgtp80\n",
       "1  93    151     28     79     25    101    157    129   \n",
       "2  81    494    346    496    615    286    454    260   \n",
       "3 168    107     95    101     30    124    106     31   \n",
       "4 385     71    234    421     76     77    242    231   \n",
       "5 119    121    116    209     97    176    144     38   \n",
       "6 109    199    116    110    211    120     31    189   "
      ]
     },
     "metadata": {},
     "output_type": "display_data"
    }
   ],
   "source": [
    "housing_idaho <- read.csv(\"housing_idaho.csv\")\n",
    "head(housing_idaho)\n",
    "\n",
    "# 53"
   ]
  },
  {
   "cell_type": "code",
   "execution_count": 10,
   "metadata": {
    "vscode": {
     "languageId": "r"
    }
   },
   "outputs": [
    {
     "data": {
      "text/html": [
       "<style>\n",
       ".list-inline {list-style: none; margin:0; padding: 0}\n",
       ".list-inline>li {display: inline-block}\n",
       ".list-inline>li:not(:last-child)::after {content: \"\\00b7\"; padding: 0 .5ex}\n",
       "</style>\n",
       "<ol class=list-inline><li>2</li><li>&lt;NA&gt;</li><li>7</li><li>1</li><li>1</li><li>2</li></ol>\n"
      ],
      "text/latex": [
       "\\begin{enumerate*}\n",
       "\\item 2\n",
       "\\item <NA>\n",
       "\\item 7\n",
       "\\item 1\n",
       "\\item 1\n",
       "\\item 2\n",
       "\\end{enumerate*}\n"
      ],
      "text/markdown": [
       "1. 2\n",
       "2. &lt;NA&gt;\n",
       "3. 7\n",
       "4. 1\n",
       "5. 1\n",
       "6. 2\n",
       "\n",
       "\n"
      ],
      "text/plain": [
       "[1]  2 NA  7  1  1  2"
      ]
     },
     "metadata": {},
     "output_type": "display_data"
    }
   ],
   "source": [
    "head(housing_idaho$FES)\n"
   ]
  },
  {
   "cell_type": "code",
   "execution_count": 13,
   "metadata": {
    "vscode": {
     "languageId": "r"
    }
   },
   "outputs": [
    {
     "data": {
      "text/html": [
       "36534720"
      ],
      "text/latex": [
       "36534720"
      ],
      "text/markdown": [
       "36534720"
      ],
      "text/plain": [
       "[1] 36534720"
      ]
     },
     "metadata": {},
     "output_type": "display_data"
    }
   ],
   "source": [
    "library(readxl)\n",
    "dat <- read_excel(\"NGAP.xlsx\", range=\"G18:O23\")\n",
    "sum(dat$Zip*dat$Ext,na.rm=T)"
   ]
  },
  {
   "cell_type": "code",
   "execution_count": null,
   "metadata": {
    "vscode": {
     "languageId": "r"
    }
   },
   "outputs": [
    {
     "data": {
      "text/html": [
       "0"
      ],
      "text/latex": [
       "0"
      ],
      "text/markdown": [
       "0"
      ],
      "text/plain": [
       "[1] 0"
      ]
     },
     "metadata": {},
     "output_type": "display_data"
    }
   ],
   "source": [
    "library(XML)\n",
    "restaurants <- xmlParse(\"restaurants.xml\")\n",
    "restaurants_data <- xmlToDataFrame(restaurants)\n",
    "sum(restaurants_data$zipcode == \"21231\")\n",
    "\n",
    "#127"
   ]
  },
  {
   "cell_type": "code",
   "execution_count": 18,
   "metadata": {
    "vscode": {
     "languageId": "r"
    }
   },
   "outputs": [
    {
     "data": {
      "text/html": [
       "<table class=\"dataframe\">\n",
       "<caption>A data.frame: 6 × 239</caption>\n",
       "<thead>\n",
       "\t<tr><th></th><th scope=col>RT</th><th scope=col>SERIALNO</th><th scope=col>SPORDER</th><th scope=col>PUMA</th><th scope=col>ST</th><th scope=col>ADJUST</th><th scope=col>PWGTP</th><th scope=col>AGEP</th><th scope=col>CIT</th><th scope=col>COW</th><th scope=col>⋯</th><th scope=col>pwgtp71</th><th scope=col>pwgtp72</th><th scope=col>pwgtp73</th><th scope=col>pwgtp74</th><th scope=col>pwgtp75</th><th scope=col>pwgtp76</th><th scope=col>pwgtp77</th><th scope=col>pwgtp78</th><th scope=col>pwgtp79</th><th scope=col>pwgtp80</th></tr>\n",
       "\t<tr><th></th><th scope=col>&lt;chr&gt;</th><th scope=col>&lt;int&gt;</th><th scope=col>&lt;int&gt;</th><th scope=col>&lt;int&gt;</th><th scope=col>&lt;int&gt;</th><th scope=col>&lt;int&gt;</th><th scope=col>&lt;int&gt;</th><th scope=col>&lt;int&gt;</th><th scope=col>&lt;int&gt;</th><th scope=col>&lt;int&gt;</th><th scope=col>⋯</th><th scope=col>&lt;int&gt;</th><th scope=col>&lt;int&gt;</th><th scope=col>&lt;int&gt;</th><th scope=col>&lt;int&gt;</th><th scope=col>&lt;int&gt;</th><th scope=col>&lt;int&gt;</th><th scope=col>&lt;int&gt;</th><th scope=col>&lt;int&gt;</th><th scope=col>&lt;int&gt;</th><th scope=col>&lt;int&gt;</th></tr>\n",
       "</thead>\n",
       "<tbody>\n",
       "\t<tr><th scope=row>1</th><td>P</td><td>186</td><td>1</td><td>700</td><td>16</td><td>1015675</td><td> 89</td><td>43</td><td>1</td><td> 7</td><td>⋯</td><td> 82</td><td> 27</td><td> 92</td><td>150</td><td> 28</td><td> 78</td><td> 25</td><td> 99</td><td>159</td><td>129</td></tr>\n",
       "\t<tr><th scope=row>2</th><td>P</td><td>186</td><td>2</td><td>700</td><td>16</td><td>1015675</td><td> 92</td><td>42</td><td>1</td><td> 4</td><td>⋯</td><td> 84</td><td> 26</td><td> 90</td><td>159</td><td> 30</td><td> 87</td><td> 27</td><td> 98</td><td>167</td><td>131</td></tr>\n",
       "\t<tr><th scope=row>3</th><td>P</td><td>186</td><td>3</td><td>700</td><td>16</td><td>1015675</td><td>107</td><td>16</td><td>1</td><td> 1</td><td>⋯</td><td> 90</td><td> 28</td><td> 92</td><td>177</td><td> 33</td><td>105</td><td> 30</td><td>104</td><td>206</td><td>156</td></tr>\n",
       "\t<tr><th scope=row>4</th><td>P</td><td>186</td><td>4</td><td>700</td><td>16</td><td>1015675</td><td> 91</td><td>14</td><td>1</td><td>NA</td><td>⋯</td><td> 81</td><td> 28</td><td> 94</td><td>164</td><td> 29</td><td> 88</td><td> 27</td><td>104</td><td>156</td><td>138</td></tr>\n",
       "\t<tr><th scope=row>5</th><td>P</td><td>306</td><td>1</td><td>700</td><td>16</td><td>1015675</td><td>309</td><td>29</td><td>1</td><td> 5</td><td>⋯</td><td>294</td><td>400</td><td> 80</td><td>489</td><td>340</td><td>491</td><td>612</td><td>282</td><td>462</td><td>259</td></tr>\n",
       "\t<tr><th scope=row>6</th><td>P</td><td>395</td><td>1</td><td>100</td><td>16</td><td>1015675</td><td>108</td><td>40</td><td>1</td><td> 8</td><td>⋯</td><td>123</td><td>119</td><td>171</td><td>108</td><td> 97</td><td>104</td><td> 31</td><td>127</td><td>108</td><td> 31</td></tr>\n",
       "</tbody>\n",
       "</table>\n"
      ],
      "text/latex": [
       "A data.frame: 6 × 239\n",
       "\\begin{tabular}{r|lllllllllllllllllllll}\n",
       "  & RT & SERIALNO & SPORDER & PUMA & ST & ADJUST & PWGTP & AGEP & CIT & COW & ⋯ & pwgtp71 & pwgtp72 & pwgtp73 & pwgtp74 & pwgtp75 & pwgtp76 & pwgtp77 & pwgtp78 & pwgtp79 & pwgtp80\\\\\n",
       "  & <chr> & <int> & <int> & <int> & <int> & <int> & <int> & <int> & <int> & <int> & ⋯ & <int> & <int> & <int> & <int> & <int> & <int> & <int> & <int> & <int> & <int>\\\\\n",
       "\\hline\n",
       "\t1 & P & 186 & 1 & 700 & 16 & 1015675 &  89 & 43 & 1 &  7 & ⋯ &  82 &  27 &  92 & 150 &  28 &  78 &  25 &  99 & 159 & 129\\\\\n",
       "\t2 & P & 186 & 2 & 700 & 16 & 1015675 &  92 & 42 & 1 &  4 & ⋯ &  84 &  26 &  90 & 159 &  30 &  87 &  27 &  98 & 167 & 131\\\\\n",
       "\t3 & P & 186 & 3 & 700 & 16 & 1015675 & 107 & 16 & 1 &  1 & ⋯ &  90 &  28 &  92 & 177 &  33 & 105 &  30 & 104 & 206 & 156\\\\\n",
       "\t4 & P & 186 & 4 & 700 & 16 & 1015675 &  91 & 14 & 1 & NA & ⋯ &  81 &  28 &  94 & 164 &  29 &  88 &  27 & 104 & 156 & 138\\\\\n",
       "\t5 & P & 306 & 1 & 700 & 16 & 1015675 & 309 & 29 & 1 &  5 & ⋯ & 294 & 400 &  80 & 489 & 340 & 491 & 612 & 282 & 462 & 259\\\\\n",
       "\t6 & P & 395 & 1 & 100 & 16 & 1015675 & 108 & 40 & 1 &  8 & ⋯ & 123 & 119 & 171 & 108 &  97 & 104 &  31 & 127 & 108 &  31\\\\\n",
       "\\end{tabular}\n"
      ],
      "text/markdown": [
       "\n",
       "A data.frame: 6 × 239\n",
       "\n",
       "| <!--/--> | RT &lt;chr&gt; | SERIALNO &lt;int&gt; | SPORDER &lt;int&gt; | PUMA &lt;int&gt; | ST &lt;int&gt; | ADJUST &lt;int&gt; | PWGTP &lt;int&gt; | AGEP &lt;int&gt; | CIT &lt;int&gt; | COW &lt;int&gt; | ⋯ ⋯ | pwgtp71 &lt;int&gt; | pwgtp72 &lt;int&gt; | pwgtp73 &lt;int&gt; | pwgtp74 &lt;int&gt; | pwgtp75 &lt;int&gt; | pwgtp76 &lt;int&gt; | pwgtp77 &lt;int&gt; | pwgtp78 &lt;int&gt; | pwgtp79 &lt;int&gt; | pwgtp80 &lt;int&gt; |\n",
       "|---|---|---|---|---|---|---|---|---|---|---|---|---|---|---|---|---|---|---|---|---|---|\n",
       "| 1 | P | 186 | 1 | 700 | 16 | 1015675 |  89 | 43 | 1 |  7 | ⋯ |  82 |  27 |  92 | 150 |  28 |  78 |  25 |  99 | 159 | 129 |\n",
       "| 2 | P | 186 | 2 | 700 | 16 | 1015675 |  92 | 42 | 1 |  4 | ⋯ |  84 |  26 |  90 | 159 |  30 |  87 |  27 |  98 | 167 | 131 |\n",
       "| 3 | P | 186 | 3 | 700 | 16 | 1015675 | 107 | 16 | 1 |  1 | ⋯ |  90 |  28 |  92 | 177 |  33 | 105 |  30 | 104 | 206 | 156 |\n",
       "| 4 | P | 186 | 4 | 700 | 16 | 1015675 |  91 | 14 | 1 | NA | ⋯ |  81 |  28 |  94 | 164 |  29 |  88 |  27 | 104 | 156 | 138 |\n",
       "| 5 | P | 306 | 1 | 700 | 16 | 1015675 | 309 | 29 | 1 |  5 | ⋯ | 294 | 400 |  80 | 489 | 340 | 491 | 612 | 282 | 462 | 259 |\n",
       "| 6 | P | 395 | 1 | 100 | 16 | 1015675 | 108 | 40 | 1 |  8 | ⋯ | 123 | 119 | 171 | 108 |  97 | 104 |  31 | 127 | 108 |  31 |\n",
       "\n"
      ],
      "text/plain": [
       "  RT SERIALNO SPORDER PUMA ST ADJUST  PWGTP AGEP CIT COW ⋯ pwgtp71 pwgtp72\n",
       "1 P  186      1       700  16 1015675  89   43   1    7  ⋯  82      27    \n",
       "2 P  186      2       700  16 1015675  92   42   1    4  ⋯  84      26    \n",
       "3 P  186      3       700  16 1015675 107   16   1    1  ⋯  90      28    \n",
       "4 P  186      4       700  16 1015675  91   14   1   NA  ⋯  81      28    \n",
       "5 P  306      1       700  16 1015675 309   29   1    5  ⋯ 294     400    \n",
       "6 P  395      1       100  16 1015675 108   40   1    8  ⋯ 123     119    \n",
       "  pwgtp73 pwgtp74 pwgtp75 pwgtp76 pwgtp77 pwgtp78 pwgtp79 pwgtp80\n",
       "1  92     150      28      78      25      99     159     129    \n",
       "2  90     159      30      87      27      98     167     131    \n",
       "3  92     177      33     105      30     104     206     156    \n",
       "4  94     164      29      88      27     104     156     138    \n",
       "5  80     489     340     491     612     282     462     259    \n",
       "6 171     108      97     104      31     127     108      31    "
      ]
     },
     "metadata": {},
     "output_type": "display_data"
    }
   ],
   "source": [
    "idaho <- read.csv(\"idaho.csv\")\n",
    "head(idaho)\n"
   ]
  },
  {
   "cell_type": "code",
   "execution_count": 23,
   "metadata": {
    "vscode": {
     "languageId": "r"
    }
   },
   "outputs": [
    {
     "name": "stdout",
     "output_type": "stream",
     "text": [
      "Method 1 Method 2 Method 3 Method 4 Method 5 \n",
      "       0        0        0        0        0 \n"
     ]
    },
    {
     "data": {
      "text/html": [
       "<strong>Method 1:</strong> 1"
      ],
      "text/latex": [
       "\\textbf{Method 1:} 1"
      ],
      "text/markdown": [
       "**Method 1:** 1"
      ],
      "text/plain": [
       "Method 1 \n",
       "       1 "
      ]
     },
     "metadata": {},
     "output_type": "display_data"
    }
   ],
   "source": [
    "library(data.table)\n",
    "DT <- fread(\"idaho.csv\")\n",
    "\n",
    "# Function to time each method\n",
    "test_speed <- function() {\n",
    "  # Method 1\n",
    "  #t1 <- system.time(mean(DT[DT$SEX==1,]$pwgtp15), mean(DT[DT$SEX==2,]$pwgtp15))\n",
    "  \n",
    "  # Method 2  \n",
    "  t2 <- system.time(DT[,mean(pwgtp15),by=SEX])\n",
    "  \n",
    "  # Method 3\n",
    "  #t3 <- system.time(mean(DT$pwgtp15,by=DT$SEX))\n",
    "  \n",
    "  # Method 4\n",
    "  t4 <- system.time(sapply(split(DT$pwgtp15,DT$SEX),mean))\n",
    "  \n",
    "  # Method 5\n",
    "  #t5 <- system.time(tapply(DT$pwgtp15,DT$SEX,mean))\n",
    "  \n",
    "  # Method 6\n",
    "  t6 <- system.time(rowMeans(DT)[DT$SEX==1], rowMeans(DT)[DT$SEX==2])\n",
    "  \n",
    "  # Return user times\n",
    "  times <- c(t1[1], t2[1], t3[1], t4[1], t5[1])\n",
    "  names(times) <- c(\"Method 1\", \"Method 2\", \"Method 3\", \"Method 4\", \"Method 5\")\n",
    "  return(times)\n",
    "}\n",
    "\n",
    "# Run timing test\n",
    "results <- test_speed()\n",
    "print(results)\n",
    "which.min(results) # Find fastest method\n"
   ]
  },
  {
   "cell_type": "markdown",
   "metadata": {},
   "source": [
    "\n",
    "\n",
    "Tidy data has one variable per column. "
   ]
  }
 ],
 "metadata": {
  "kernelspec": {
   "display_name": "R",
   "language": "R",
   "name": "ir"
  },
  "language_info": {
   "codemirror_mode": "r",
   "file_extension": ".r",
   "mimetype": "text/x-r-source",
   "name": "R",
   "pygments_lexer": "r",
   "version": "4.5.0"
  }
 },
 "nbformat": 4,
 "nbformat_minor": 2
}
