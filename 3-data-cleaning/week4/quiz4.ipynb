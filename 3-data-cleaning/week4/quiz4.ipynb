{
 "cells": [
  {
   "cell_type": "code",
   "execution_count": 2,
   "metadata": {
    "vscode": {
     "languageId": "r"
    }
   },
   "outputs": [
    {
     "data": {
      "text/html": [
       "<ol>\n",
       "\t<li><style>\n",
       ".list-inline {list-style: none; margin:0; padding: 0}\n",
       ".list-inline>li {display: inline-block}\n",
       ".list-inline>li:not(:last-child)::after {content: \"\\00b7\"; padding: 0 .5ex}\n",
       "</style>\n",
       "<ol class=list-inline><li>''</li><li>'15'</li></ol>\n",
       "</li>\n",
       "</ol>\n"
      ],
      "text/latex": [
       "\\begin{enumerate}\n",
       "\\item \\begin{enumerate*}\n",
       "\\item ''\n",
       "\\item '15'\n",
       "\\end{enumerate*}\n",
       "\n",
       "\\end{enumerate}\n"
      ],
      "text/markdown": [
       "1. 1. ''\n",
       "2. '15'\n",
       "\n",
       "\n",
       "\n",
       "\n",
       "\n"
      ],
      "text/plain": [
       "[[1]]\n",
       "[1] \"\"   \"15\"\n"
      ]
     },
     "metadata": {},
     "output_type": "display_data"
    }
   ],
   "source": [
    "# Download the data file\n",
    "download.file(\"https://d396qusza40orc.cloudfront.net/getdata%2Fdata%2Fss06hid.csv\", \n",
    "              destfile = \"idaho.csv\")\n",
    "\n",
    "# Read the CSV file\n",
    "idaho <- read.csv(\"idaho.csv\")\n",
    "\n",
    "\n",
    "split_list <- strsplit(names(idaho), \"wgtp\")\n",
    "split_list[123]\n",
    "\n"
   ]
  },
  {
   "cell_type": "code",
   "execution_count": null,
   "metadata": {
    "vscode": {
     "languageId": "r"
    }
   },
   "outputs": [
    {
     "data": {
      "text/html": [
       "NaN"
      ],
      "text/latex": [
       "NaN"
      ],
      "text/markdown": [
       "NaN"
      ],
      "text/plain": [
       "[1] NaN"
      ]
     },
     "metadata": {},
     "output_type": "display_data"
    }
   ],
   "source": [
    "download.file(\"https://d396qusza40orc.cloudfront.net/getdata%2Fdata%2FGDP.csv\", \n",
    "              destfile = \"GDP.csv\")\n",
    "\n",
    "GDP <- read.csv(\"GDP.csv\")\n",
    "\n",
    "# Remove commas and convert to numeric, skipping first 5 rows of metadata\n",
    "gdp_values <- as.numeric(gsub(\",\", \"\", GDP$X.4[nrow(GDP)]))\n",
    "\n",
    "# Calculate mean, removing NA values\n",
    "mean_gdp <- mean(gdp_values, na.rm=TRUE)\n",
    "mean_gdp\n",
    "\n",
    "#377652.4"
   ]
  },
  {
   "cell_type": "code",
   "execution_count": 5,
   "metadata": {
    "vscode": {
     "languageId": "r"
    }
   },
   "outputs": [
    {
     "data": {
      "text/html": [
       "0"
      ],
      "text/latex": [
       "0"
      ],
      "text/markdown": [
       "0"
      ],
      "text/plain": [
       "[1] 0"
      ]
     },
     "metadata": {},
     "output_type": "display_data"
    }
   ],
   "source": [
    "# Extract country names from the GDP dataset\n",
    "countryNames <- GDP$X.3\n",
    "\n",
    "# Use grep to count countries starting with \"United\"\n",
    "length(grep(\"^United\", countryNames))\n"
   ]
  },
  {
   "cell_type": "code",
   "execution_count": 8,
   "metadata": {
    "vscode": {
     "languageId": "r"
    }
   },
   "outputs": [
    {
     "data": {
      "text/html": [
       "106"
      ],
      "text/latex": [
       "106"
      ],
      "text/markdown": [
       "106"
      ],
      "text/plain": [
       "[1] 106"
      ]
     },
     "metadata": {},
     "output_type": "display_data"
    }
   ],
   "source": [
    "download.file(\"https://d396qusza40orc.cloudfront.net/getdata%2Fdata%2FEDSTATS_Country.csv\", \n",
    "              destfile = \"EDU.csv\")\n",
    "\n",
    "EDU <- read.csv(\"EDU.csv\")\n",
    "\n",
    "# Merge GDP and EDU datasets\n",
    "merged_data <- merge(GDP, EDU, by.x = \"X\", by.y = \"CountryCode\", all = TRUE)\n",
    "\n",
    "# Count number of countries with \"Fiscal year end: June\"\n",
    "june_countries <- merged_data[merged_data$Special.Notes == \"June\",]\n",
    "nrow(june_countries)"
   ]
  },
  {
   "cell_type": "code",
   "execution_count": 11,
   "metadata": {
    "vscode": {
     "languageId": "r"
    }
   },
   "outputs": [
    {
     "name": "stdout",
     "output_type": "stream",
     "text": [
      "Total values in 2012: 250 \n",
      "Monday values in 2012: 47"
     ]
    }
   ],
   "source": [
    "library(quantmod)\n",
    "amzn = getSymbols(\"AMZN\",auto.assign=FALSE)\n",
    "sampleTimes = index(amzn)\n",
    "\n",
    "# Filter for 2012 dates\n",
    "dates_2012 <- sampleTimes[format(sampleTimes, \"%Y\") == \"2012\"]\n",
    "\n",
    "# Count total values in 2012\n",
    "total_2012 <- length(dates_2012)\n",
    "\n",
    "# Count Monday values in 2012 \n",
    "mondays_2012 <- length(dates_2012[weekdays(dates_2012) == \"Monday\"])\n",
    "\n",
    "# Print results\n",
    "cat(\"Total values in 2012:\", total_2012, \"\\n\")\n",
    "cat(\"Monday values in 2012:\", mondays_2012)\n"
   ]
  }
 ],
 "metadata": {
  "kernelspec": {
   "display_name": "R",
   "language": "R",
   "name": "ir"
  },
  "language_info": {
   "codemirror_mode": "r",
   "file_extension": ".r",
   "mimetype": "text/x-r-source",
   "name": "R",
   "pygments_lexer": "r",
   "version": "4.5.0"
  }
 },
 "nbformat": 4,
 "nbformat_minor": 2
}
