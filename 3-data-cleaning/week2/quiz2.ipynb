{
 "cells": [
  {
   "cell_type": "code",
   "execution_count": 1,
   "metadata": {
    "vscode": {
     "languageId": "r"
    }
   },
   "outputs": [
    {
     "data": {
      "text/plain": [
       "<oauth_endpoint>\n",
       " authorize: https://github.com/login/oauth/authorize\n",
       " access:    https://github.com/login/oauth/access_token"
      ]
     },
     "metadata": {},
     "output_type": "display_data"
    },
    {
     "name": "stderr",
     "output_type": "stream",
     "text": [
      "httpuv not installed, defaulting to out-of-band authentication\n",
      "\n"
     ]
    },
    {
     "ename": "ERROR",
     "evalue": "Error: Can only use oob authentication in an interactive session\n",
     "output_type": "error",
     "traceback": [
      "Error: Can only use oob authentication in an interactive session\nTraceback:\n",
      "1. Token2.0$new(app = app, endpoint = endpoint, params = params, \n .     credentials = credentials, cache_path = if (is.null(credentials)) cache else FALSE)",
      "2. initialize(...)",
      "3. self$init_credentials()",
      "4. init_oauth2.0(self$endpoint, self$app, scope = self$params$scope, \n .     user_params = self$params$user_params, type = self$params$type, \n .     use_oob = self$params$use_oob, oob_value = self$params$oob_value, \n .     use_basic_auth = self$params$use_basic_auth, config_init = self$params$config_init, \n .     client_credentials = self$params$client_credentials, query_authorize_extra = self$params$query_authorize_extra)",
      "5. check_oob(use_oob, oob_value)",
      "6. stop(\"Can only use oob authentication in an interactive session\", \n .     call. = FALSE)",
      "7. .handleSimpleError(function (cnd) \n . {\n .     watcher$capture_plot_and_output()\n .     cnd <- sanitize_call(cnd)\n .     watcher$push(cnd)\n .     switch(on_error, continue = invokeRestart(\"eval_continue\"), \n .         stop = invokeRestart(\"eval_stop\"), error = NULL)\n . }, \"Can only use oob authentication in an interactive session\", \n .     base::quote(NULL))"
     ]
    }
   ],
   "source": [
    "#2013-11-07"
   ]
  },
  {
   "cell_type": "code",
   "execution_count": 2,
   "metadata": {
    "vscode": {
     "languageId": "r"
    }
   },
   "outputs": [
    {
     "name": "stdout",
     "output_type": "stream",
     "text": [
      "Line 10 has 45 characters\n",
      "Line 20 has 31 characters\n",
      "Line 30 has 7 characters\n",
      "Line 100 has 25 characters\n"
     ]
    }
   ],
   "source": [
    "library(httr)\n",
    "\n",
    "# Get the HTML content\n",
    "url <- \"http://biostat.jhsph.edu/~jleek/contact.html\"\n",
    "response <- GET(url)\n",
    "html_content <- content(response, \"text\")\n",
    "\n",
    "# Split into lines and get lengths\n",
    "lines <- strsplit(html_content, \"\\n\")[[1]]\n",
    "line_lengths <- nchar(lines)\n",
    "\n",
    "# Get requested line lengths\n",
    "requested_lines <- c(10, 20, 30, 100)\n",
    "result <- line_lengths[requested_lines]\n",
    "\n",
    "# Print results\n",
    "for(i in seq_along(requested_lines)) {\n",
    "  cat(sprintf(\"Line %d has %d characters\\n\", \n",
    "              requested_lines[i], \n",
    "              result[i]))\n",
    "}\n"
   ]
  },
  {
   "cell_type": "code",
   "execution_count": 4,
   "metadata": {
    "vscode": {
     "languageId": "r"
    }
   },
   "outputs": [
    {
     "name": "stderr",
     "output_type": "stream",
     "text": [
      "Warning message:\n",
      "\"NAs introduced by coercion\"\n"
     ]
    },
    {
     "name": "stdout",
     "output_type": "stream",
     "text": [
      "[1] \"Sum of numbers in column 4: 32426.7\"\n"
     ]
    }
   ],
   "source": [
    "# Read the data from data.for file\n",
    "data <- read.fwf(\"data.for\", widths=rep(8,9))\n",
    "\n",
    "# Convert column 4 to numeric, removing non-numeric values\n",
    "data[,4] <- as.numeric(data[,4])\n",
    "# Remove NA values that resulted from non-numeric conversion\n",
    "data <- data[!is.na(data[,4]),]\n",
    "\n",
    "\n",
    "# Get sum of fourth column\n",
    "sum_col4 <- sum(data[,4])\n",
    "\n",
    "# Print result\n",
    "print(paste(\"Sum of numbers in column 4:\", sum_col4))\n"
   ]
  }
 ],
 "metadata": {
  "kernelspec": {
   "display_name": "R",
   "language": "R",
   "name": "ir"
  },
  "language_info": {
   "codemirror_mode": "r",
   "file_extension": ".r",
   "mimetype": "text/x-r-source",
   "name": "R",
   "pygments_lexer": "r",
   "version": "4.5.0"
  }
 },
 "nbformat": 4,
 "nbformat_minor": 2
}
